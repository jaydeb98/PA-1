{
 "cells": [
  {
   "cell_type": "code",
   "execution_count": null,
   "id": "b0daf56a",
   "metadata": {},
   "outputs": [],
   "source": [
    "#For Loop"
   ]
  },
  {
   "cell_type": "code",
   "execution_count": 2,
   "id": "6c4abbc1",
   "metadata": {},
   "outputs": [
    {
     "name": "stdout",
     "output_type": "stream",
     "text": [
      "1\n",
      "2\n",
      "3\n",
      "4\n",
      "5\n",
      "6\n",
      "7\n",
      "8\n",
      "9\n",
      "10\n"
     ]
    }
   ],
   "source": [
    "#1.\n",
    "\n",
    "# Using a for loop to iterate over a range of values\n",
    "\n",
    "# Loop through numbers from 1 to 10\n",
    "for i in range(1, 11):\n",
    "    # Print the current number\n",
    "    print(i)"
   ]
  },
  {
   "cell_type": "code",
   "execution_count": null,
   "id": "1c4dab0b",
   "metadata": {},
   "outputs": [],
   "source": [
    "#2.\n",
    "\n",
    "In Python, a for loop is employed when the number of iterations is known in advance or when iterating over a sequence like a list, tuple, or string. \n",
    "The loop variable takes on each value from the iterable in every iteration.\n",
    "\n",
    "On the other hand, a while loop is utilized when the exact number of iterations is not known beforehand, and the loop continues executing as long as a specified condition remains True. \n",
    "It's crucial to be cautious with while loops to avoid unintentional infinite loops."
   ]
  },
  {
   "cell_type": "code",
   "execution_count": 2,
   "id": "85319d89",
   "metadata": {},
   "outputs": [
    {
     "name": "stdout",
     "output_type": "stream",
     "text": [
      "The sum of 100 numbers is 5050\n"
     ]
    }
   ],
   "source": [
    "#3.\n",
    "\n",
    "# Initialize a variable to store the sum of numbers\n",
    "sum = 0\n",
    "\n",
    "# Iterate through numbers from 1 to 100 (inclusive)\n",
    "for i in range(1, 101):\n",
    "    # Add the current number to the sum\n",
    "    sum = sum + i\n",
    "\n",
    "# Print the result, indicating the sum of the first 100 numbers\n",
    "print(f'The sum of first 100 numbers is {sum}')"
   ]
  },
  {
   "cell_type": "code",
   "execution_count": null,
   "id": "11b1b506",
   "metadata": {},
   "outputs": [],
   "source": [
    "#4.\n",
    "\n",
    "When iterating through a list using a for loop in Python, we use the following syntax:\n",
    "    \n",
    "my_list = [1, 2, 3, 4, 5]\n",
    "\n",
    "for element in my_list:\n",
    "    # Code to be executed for each element\n",
    "    print(element)\n",
    "\n",
    "In this example, the for loop iterates through each element in the my_list, and the loop variable element takes on each value in the list in each iteration. \n",
    "The indented block of code under the for statement is executed for each element.\n",
    "\n",
    "Here's a breakdown of the process:\n",
    "\n",
    "1. The for keyword is used to initiate the loop.\n",
    "2. 'element' is a variable that represents the current element in the list during each iteration.\n",
    "3. 'in' is used to specify the iterable, in this case, the list 'my_list'.\n",
    "4. The colon (':') indicates the beginning of the indented block of code that will be executed for each iteration."
   ]
  },
  {
   "cell_type": "code",
   "execution_count": 1,
   "id": "0889c109",
   "metadata": {},
   "outputs": [
    {
     "name": "stdout",
     "output_type": "stream",
     "text": [
      "The product of all the numbers of the list is 76204800\n"
     ]
    }
   ],
   "source": [
    "#5.\n",
    "\n",
    "# Define a list of numbers\n",
    "list_num = [8, 7, 6, 5, 9, 4, 3, 2, 5, 7, 6]\n",
    "\n",
    "# Initialize a variable to store the product of numbers\n",
    "product = 1\n",
    "\n",
    "# Iterate through each element in the list\n",
    "for i in list_num:\n",
    "    # Multiply the current element with the product\n",
    "    product = product * i\n",
    "\n",
    "# Print the result, indicating the product of all numbers in the list\n",
    "print(f'The product of all the numbers in the list is {product}')"
   ]
  },
  {
   "cell_type": "code",
   "execution_count": 2,
   "id": "727c5bd6",
   "metadata": {},
   "outputs": [
    {
     "name": "stdout",
     "output_type": "stream",
     "text": [
      "List of even numbers from 1-20 is:  [2, 4, 6, 8, 10, 12, 14, 16, 18, 20]\n"
     ]
    }
   ],
   "source": [
    "#6. \n",
    "\n",
    "# Create a list comprehension to generate a list of even numbers from 1 to 20\n",
    "even_num = [i for i in range(1, 21) if i % 2 == 0]\n",
    "\n",
    "# Print the list of even numbers\n",
    "print('List of even numbers from 1-20 is: ', even_num)"
   ]
  },
  {
   "cell_type": "code",
   "execution_count": 3,
   "id": "f245be3c",
   "metadata": {},
   "outputs": [
    {
     "name": "stdout",
     "output_type": "stream",
     "text": [
      "Enter the number you want to find the factorial of: 5\n",
      "The factorial of 5 is 120\n"
     ]
    }
   ],
   "source": [
    "#7.\n",
    "\n",
    "# Get input from the user for the number to find the factorial of\n",
    "num = int(input('Enter the number you want to find the factorial of: '))\n",
    "\n",
    "# Initialize a variable to store the factorial, starting with 1\n",
    "fact = 1\n",
    "\n",
    "# Iterate through numbers from 1 to the specified number\n",
    "for i in range(1, num+1):\n",
    "    # Multiply the current number with the factorial\n",
    "    fact = fact * i\n",
    "\n",
    "# Print the result, indicating the factorial of the entered number\n",
    "print(f'The factorial of {num} is {fact}')"
   ]
  },
  {
   "cell_type": "code",
   "execution_count": null,
   "id": "0d987619",
   "metadata": {},
   "outputs": [],
   "source": [
    "#8.\n",
    "\n",
    "In Python, if you have a string, you can use a for loop to iterate through each character in the string. \n",
    "The loop is structured to go through the string one character at a time, and for each character, the specified action (in this case, printing the character) is performed. \n",
    "\n",
    "Example:\n",
    "\n",
    "my_string = \"Hello, World!\"\n",
    "\n",
    "# Using a for loop to iterate through each character in the string\n",
    "for char in my_string:\n",
    "    print(char)\n"
   ]
  },
  {
   "cell_type": "code",
   "execution_count": 5,
   "id": "4172dacd",
   "metadata": {},
   "outputs": [
    {
     "name": "stdout",
     "output_type": "stream",
     "text": [
      "The largest number in the given list is: 10\n"
     ]
    }
   ],
   "source": [
    "#9. \n",
    "\n",
    "# Define a list of numbers\n",
    "list_num = [8, 7, 6, 5, 9, 4, 3, 2, 5, 7, 6, 10]\n",
    "\n",
    "# Initialize a variable to store the largest number, starting with the first element\n",
    "largest = 1\n",
    "\n",
    "# Iterate through each element in the list\n",
    "for i in list_num:\n",
    "    # Check if the current element is greater than the current largest\n",
    "    if i > largest:\n",
    "        # Update the largest number if the condition is met\n",
    "        largest = i\n",
    "\n",
    "# Print the result, indicating the largest number in the given list\n",
    "print(f'The largest number in the given list is: {largest}')"
   ]
  },
  {
   "cell_type": "code",
   "execution_count": 8,
   "id": "3fc91b64",
   "metadata": {},
   "outputs": [
    {
     "name": "stdout",
     "output_type": "stream",
     "text": [
      "Enter the limit of Fibonacci sequence: 10\n",
      "0\n",
      "1\n",
      "1\n",
      "2\n",
      "3\n",
      "5\n",
      "8\n",
      "13\n",
      "21\n",
      "34\n"
     ]
    }
   ],
   "source": [
    "#10.\n",
    "\n",
    "# Prompt the user to enter a number to generate the Fibonacci series up to\n",
    "n = int(input('Enter the number you want to print the Fibonacci series of: '))\n",
    "\n",
    "# Initialize the first two Fibonacci numbers\n",
    "a = 0\n",
    "b = 1\n",
    "\n",
    "# Iterate 'n' times to calculate and print the Fibonacci series\n",
    "for i in range(n):\n",
    "    print(a)\n",
    "    \n",
    "    # Calculate the next Fibonacci number\n",
    "    c = a + b\n",
    "    a = b\n",
    "    b = c"
   ]
  },
  {
   "cell_type": "code",
   "execution_count": 9,
   "id": "2c5ba18a",
   "metadata": {},
   "outputs": [
    {
     "name": "stdout",
     "output_type": "stream",
     "text": [
      "Enter the string: Hello World\n",
      "The total number of vowels in the string is:  3\n"
     ]
    }
   ],
   "source": [
    "#11.\n",
    "\n",
    "# Get input from the user for the string\n",
    "string = input('Enter the string: ')\n",
    "\n",
    "# Define a list of vowels\n",
    "vowels = ['a', 'e', 'i', 'o', 'u']\n",
    "\n",
    "# Initialize a variable to store the count of vowels in the string\n",
    "count = 0\n",
    "\n",
    "# Iterate through each character in the input string\n",
    "for i in string:\n",
    "    # Check if the lowercase version of the current character is in the list of vowels\n",
    "    if i.lower() in vowels:\n",
    "        # Increment the count if the current character is a vowel\n",
    "        count = count + 1\n",
    "\n",
    "# Print the result, indicating the total number of vowels in the string\n",
    "print('The total number of vowels in the string is: ', count)"
   ]
  },
  {
   "cell_type": "code",
   "execution_count": 1,
   "id": "4b3d8804",
   "metadata": {},
   "outputs": [
    {
     "name": "stdout",
     "output_type": "stream",
     "text": [
      "Enter the number you want to find the table of: 9\n",
      "9 x 1 = 9\n",
      "9 x 2 = 18\n",
      "9 x 3 = 27\n",
      "9 x 4 = 36\n",
      "9 x 5 = 45\n",
      "9 x 6 = 54\n",
      "9 x 7 = 63\n",
      "9 x 8 = 72\n",
      "9 x 9 = 81\n",
      "9 x 10 = 90\n"
     ]
    }
   ],
   "source": [
    "#12.\n",
    "\n",
    "# Prompt the user to enter a number for which to generate the multiplication table\n",
    "n = int(input('Enter the number you want to find the table of: '))\n",
    "\n",
    "# Use a for loop to iterate from 1 to 10\n",
    "for i in range(1, 11):\n",
    "    # Display the multiplication table for 'n' up to 10\n",
    "    print('{0} x {1} = {2}'.format(n, i, n * i))"
   ]
  },
  {
   "cell_type": "code",
   "execution_count": 11,
   "id": "21b62342",
   "metadata": {},
   "outputs": [
    {
     "name": "stdout",
     "output_type": "stream",
     "text": [
      "Original List: [31, 98, 25, 65, 52, 13, 64, 95]\n",
      "Reversed List: [31, 98, 25, 65, 52, 13, 64, 95]\n"
     ]
    }
   ],
   "source": [
    "#13.\n",
    "\n",
    "original_list = [31, 98, 25, 65, 52, 13, 64, 95]\n",
    "\n",
    "# Reversing the list using a for loop\n",
    "reversed_list = []\n",
    "for item in original_list:\n",
    "    reversed_list.insert(0, item)\n",
    "\n",
    "# Printing the original and reversed lists\n",
    "print(\"Original List:\", original_list)\n",
    "print(\"Reversed List:\", reversed_list)"
   ]
  },
  {
   "cell_type": "code",
   "execution_count": 14,
   "id": "7b6fcf2a",
   "metadata": {},
   "outputs": [
    {
     "name": "stdout",
     "output_type": "stream",
     "text": [
      "The common items in both the list are: [1, 5, 8, 9, 6, 2]\n"
     ]
    }
   ],
   "source": [
    "#14.\n",
    "\n",
    "# Define two lists\n",
    "list1 = [1, 5, 8, 7, 9, 6, 7, 2, 10]\n",
    "list2 = [3, 8, 9, 2, 1, 5, 6]\n",
    "\n",
    "# Initialize an empty list to store common items\n",
    "common = []\n",
    "\n",
    "# Iterate through each element in the first list\n",
    "for i in list1:\n",
    "    # Check if the current element is present in the second list\n",
    "    if i in list2:\n",
    "        # If the element is common, append it to the 'common' list\n",
    "        common.append(i)\n",
    "\n",
    "# Print the result, indicating the common items in both lists\n",
    "print(f'The common items in both lists are: {common}')"
   ]
  },
  {
   "cell_type": "code",
   "execution_count": null,
   "id": "defa7bab",
   "metadata": {},
   "outputs": [],
   "source": [
    "#15.\n",
    "\n",
    "In Python, you can use a for loop to iterate through the keys and values of a dictionary using the items() method. \n",
    "The items() method returns a view of the dictionary's key-value pairs as tuples, and you can then use a for loop to iterate through these pairs. \n",
    "Here's an example:\n",
    "\n",
    "my_dict = {'name': 'John', 'age': 25, 'city': 'New York'}\n",
    "\n",
    "# Iterating through keys and values using items()\n",
    "for key, value in my_dict.items():\n",
    "    print(f'Key: {key}, Value: {value}')\n"
   ]
  },
  {
   "cell_type": "code",
   "execution_count": 15,
   "id": "718c2fee",
   "metadata": {},
   "outputs": [
    {
     "name": "stdout",
     "output_type": "stream",
     "text": [
      "Enter the first number: 12\n",
      "Enter the second number: 8\n",
      "The GCD of 12 and 8 is: 4\n"
     ]
    }
   ],
   "source": [
    "#16.\n",
    "\n",
    "# Taking input from the user\n",
    "num1 = int(input(\"Enter the first number: \"))\n",
    "num2 = int(input(\"Enter the second number: \"))\n",
    "\n",
    "# Ensure num1 is greater than or equal to num2\n",
    "if num1 < num2:\n",
    "    num1, num2 = num2, num1\n",
    "\n",
    "# Find GCD using a for loop\n",
    "for divisor in range(num2, 0, -1):\n",
    "    if num1 % divisor == 0 and num2 % divisor == 0:\n",
    "        gcd_result = divisor\n",
    "        break\n",
    "else:\n",
    "    gcd_result = 1  # If no common divisor is found, GCD is 1\n",
    "\n",
    "# Display the result\n",
    "print(f'The GCD of {num1} and {num2} is: {gcd_result}')"
   ]
  },
  {
   "cell_type": "code",
   "execution_count": 16,
   "id": "1d6cd716",
   "metadata": {},
   "outputs": [
    {
     "name": "stdout",
     "output_type": "stream",
     "text": [
      "Enter a string: Jaydeb\n",
      "The string \"jaydeb\" is not a palindrome.\n"
     ]
    }
   ],
   "source": [
    "#17.\n",
    "\n",
    "# Get user input\n",
    "user_input = input(\"Enter a string: \")\n",
    "\n",
    "# Convert the string to lowercase to make the comparison case-insensitive\n",
    "user_input = user_input.lower()\n",
    "\n",
    "# Remove spaces from the string\n",
    "user_input = ''.join(user_input.split())\n",
    "\n",
    "# Check if the string is a palindrome using a for loop\n",
    "is_palindrome = True\n",
    "for i in range(len(user_input)//2):\n",
    "    if user_input[i] != user_input[-i-1]:\n",
    "        is_palindrome = False\n",
    "        break\n",
    "\n",
    "# Display the result\n",
    "if is_palindrome:\n",
    "    print(f'The string \"{user_input}\" is a palindrome.')\n",
    "else:\n",
    "    print(f'The string \"{user_input}\" is not a palindrome.')\n"
   ]
  },
  {
   "cell_type": "code",
   "execution_count": 18,
   "id": "72a16dd9",
   "metadata": {},
   "outputs": [
    {
     "name": "stdout",
     "output_type": "stream",
     "text": [
      "Original List: [1, 2, 3, 4, 2, 5, 6, 1, 7, 8, 3, 9, 9]\n",
      "List with Duplicates Removed: [1, 2, 3, 4, 5, 6, 7, 8, 9]\n"
     ]
    }
   ],
   "source": [
    "#18.\n",
    "\n",
    "# Original list with duplicates\n",
    "original_list = [1, 2, 3, 4, 2, 5, 6, 1, 7, 8, 3, 9, 9]\n",
    "\n",
    "# New list to store unique elements\n",
    "unique_list = []\n",
    "\n",
    "# Loop through the original list\n",
    "for item in original_list:\n",
    "    # Check if the element is not already in the unique_list\n",
    "    if item not in unique_list:\n",
    "        # Add the element to the unique_list\n",
    "        unique_list.append(item)\n",
    "\n",
    "# Display the original and unique lists\n",
    "print(\"Original List:\", original_list)\n",
    "print(\"List with Duplicates Removed:\", unique_list)\n"
   ]
  },
  {
   "cell_type": "code",
   "execution_count": 19,
   "id": "f188b095",
   "metadata": {},
   "outputs": [
    {
     "name": "stdout",
     "output_type": "stream",
     "text": [
      "Enter a sentence: Hey My Name is Jaydeb Shaw\n",
      "The number of words in the sentence is: 6\n"
     ]
    }
   ],
   "source": [
    "#19.\n",
    "\n",
    "# Get user input for a sentence\n",
    "sentence = input(\"Enter a sentence: \")\n",
    "\n",
    "# Split the sentence into words\n",
    "words = sentence.split()\n",
    "\n",
    "# Initialize a counter for the number of words\n",
    "word_count = 0\n",
    "\n",
    "# Loop through the list of words and increment the counter\n",
    "for word in words:\n",
    "    word_count += 1\n",
    "\n",
    "# Display the result\n",
    "print(f'The number of words in the sentence is: {word_count}')\n"
   ]
  },
  {
   "cell_type": "code",
   "execution_count": 1,
   "id": "4a49e31d",
   "metadata": {},
   "outputs": [
    {
     "name": "stdout",
     "output_type": "stream",
     "text": [
      "The sum of odd numbers between 1-50 is: 625\n"
     ]
    }
   ],
   "source": [
    "#20.\n",
    "\n",
    "# Initialize an empty list to store odd numbers\n",
    "odd_num = []\n",
    "\n",
    "# Iterate through numbers from 1 to 50\n",
    "for i in range(1, 51):\n",
    "    # Check if the current number is odd\n",
    "    if i % 2 != 0:\n",
    "        # If the number is odd, append it to the 'odd_num' list\n",
    "        odd_num.append(i)\n",
    "\n",
    "# Initialize a variable to store the sum of odd numbers\n",
    "sum = 0\n",
    "\n",
    "# Iterate through each odd number in the list\n",
    "for j in odd_num:\n",
    "    # Add the current odd number to the sum\n",
    "    sum = sum + j\n",
    "\n",
    "# Print the result, indicating the sum of odd numbers between 1-50\n",
    "print(f'The sum of odd numbers between 1-50 is: {sum}')\n"
   ]
  },
  {
   "cell_type": "code",
   "execution_count": 21,
   "id": "06b4076e",
   "metadata": {},
   "outputs": [
    {
     "name": "stdout",
     "output_type": "stream",
     "text": [
      "Enter a year: 2014\n",
      "The year 2014 is not a leap year.\n"
     ]
    }
   ],
   "source": [
    "#21.\n",
    "\n",
    "# Get user input for the year\n",
    "year = int(input(\"Enter a year: \"))\n",
    "\n",
    "# Check if the year is a leap year using a for loop\n",
    "is_leap_year = False\n",
    "\n",
    "# Check for leap year conditions\n",
    "for i in range(4, 101, 4):\n",
    "    if year % i == 0:\n",
    "        is_leap_year = True\n",
    "        break\n",
    "\n",
    "    if year % 400 == 0:\n",
    "        is_leap_year = True\n",
    "        break\n",
    "\n",
    "# Display the result\n",
    "if is_leap_year:\n",
    "    print(f'The year {year} is a leap year.')\n",
    "else:\n",
    "    print(f'The year {year} is not a leap year.')\n"
   ]
  },
  {
   "cell_type": "code",
   "execution_count": 22,
   "id": "5ab948cc",
   "metadata": {},
   "outputs": [
    {
     "name": "stdout",
     "output_type": "stream",
     "text": [
      "Enter a number: 8\n",
      "The square root of 8.0 is approximately: 2.82842712474619\n"
     ]
    }
   ],
   "source": [
    "#22.\n",
    "\n",
    "# Get user input for the number\n",
    "number = float(input(\"Enter a number: \"))\n",
    "\n",
    "# Set an initial guess for the square root\n",
    "guess = number / 2\n",
    "\n",
    "# Number of iterations for the loop\n",
    "iterations = 100\n",
    "\n",
    "# Iterate to improve the guess\n",
    "for _ in range(iterations):\n",
    "    guess = 0.5 * (guess + number / guess)\n",
    "\n",
    "# Display the result\n",
    "print(f'The square root of {number} is approximately: {guess}')\n"
   ]
  },
  {
   "cell_type": "code",
   "execution_count": null,
   "id": "5639e60e",
   "metadata": {},
   "outputs": [],
   "source": [
    "#23.\n",
    "\n",
    "# Get user input for two numbers\n",
    "num1 = int(input(\"Enter the first number: \"))\n",
    "num2 = int(input(\"Enter the second number: \"))\n",
    "\n",
    "# Find the maximum of the two numbers\n",
    "max_num = max(num1, num2)\n",
    "\n",
    "# Use a for loop to find the LCM\n",
    "for lcm in range(max_num, num1 * num2 + 1, max_num):\n",
    "    if lcm % num1 == 0 and lcm % num2 == 0:\n",
    "        break\n",
    "\n",
    "# Display the result\n",
    "print(f'The LCM of {num1} and {num2} is: {lcm}')\n"
   ]
  },
  {
   "cell_type": "code",
   "execution_count": null,
   "id": "aa7843fe",
   "metadata": {},
   "outputs": [],
   "source": [
    "# If-Else Statements"
   ]
  },
  {
   "cell_type": "code",
   "execution_count": 4,
   "id": "0a1a1b24",
   "metadata": {},
   "outputs": [
    {
     "name": "stdout",
     "output_type": "stream",
     "text": [
      "Enter a number you want to check: -9\n",
      "The number is negative\n"
     ]
    }
   ],
   "source": [
    "#1.\n",
    "\n",
    "# Get input from the user for the number\n",
    "number = int(input('Enter a number you want to check: '))\n",
    "\n",
    "# Check if the number is zero\n",
    "if number == 0:\n",
    "    print('The number is zero')\n",
    "# Check if the number is positive\n",
    "elif number >= 0:\n",
    "    print('The number is positive')\n",
    "# If neither of the above conditions is met, the number is negative\n",
    "else:\n",
    "    print('The number is negative')"
   ]
  },
  {
   "cell_type": "code",
   "execution_count": 5,
   "id": "54b24c81",
   "metadata": {},
   "outputs": [
    {
     "name": "stdout",
     "output_type": "stream",
     "text": [
      "Enter a number: 89\n",
      "This is an odd number\n"
     ]
    }
   ],
   "source": [
    "#2.\n",
    "\n",
    "# Ask the user for a number and convert it to an integer\n",
    "num = int(input('Enter a number: '))\n",
    "\n",
    "# Check if the number is even\n",
    "if num % 2 == 0:\n",
    "    # If it's even, print a message indicating it's an even number\n",
    "    print('This is an even number')\n",
    "else:\n",
    "    # If it's not even, print a message indicating it's an odd number\n",
    "    print('This is an odd number')"
   ]
  },
  {
   "cell_type": "code",
   "execution_count": null,
   "id": "b25e7983",
   "metadata": {},
   "outputs": [],
   "source": [
    "#3.\n",
    "\n",
    "Nested if-else statements in Python are a way to include one if-else statement inside another. \n",
    "This allows for more complex decision-making based on multiple conditions. \n",
    "The structure typically looks like this:\n",
    "    \n",
    "if condition1:\n",
    "    # Code block for condition1\n",
    "    if condition2:\n",
    "        # Code block for condition2 under condition1\n",
    "    else:\n",
    "        # Code block for else under condition1\n",
    "else:\n",
    "    # Code block for else under the outermost if\n",
    "\n",
    "    \n",
    "Example:\n",
    "    \n",
    "# Get input from the user for a number\n",
    "number = int(input('Enter a number: '))\n",
    "\n",
    "# Check if the number is positive, negative, or zero\n",
    "if number > 0:\n",
    "    print('The number is positive')\n",
    "elif number == 0:\n",
    "    print('The number is zero')\n",
    "else:\n",
    "    print('The number is negative')\n",
    "\n",
    "    # Check if the negative number is even or odd\n",
    "    if number % 2 == 0:\n",
    "        print('The negative number is also even')\n",
    "    else:\n",
    "        print('The negative number is also odd')\n"
   ]
  },
  {
   "cell_type": "code",
   "execution_count": 6,
   "id": "a30bcb65",
   "metadata": {},
   "outputs": [
    {
     "name": "stdout",
     "output_type": "stream",
     "text": [
      "Enter the first number: 89\n",
      "Enter the second number: 85\n",
      "Enter the third number: 94\n",
      "The largest number among 89, 85, and 94 is 94\n"
     ]
    }
   ],
   "source": [
    "#4.\n",
    "\n",
    "# Ask the user for three numbers and convert them to integers\n",
    "n1 = int(input('Enter the first number: '))\n",
    "n2 = int(input('Enter the second number: '))\n",
    "n3 = int(input('Enter the third number: '))\n",
    "\n",
    "# Compare the three numbers to find the largest among them using nested if statements\n",
    "if n1 > n2:\n",
    "    if n1 > n3:\n",
    "        largest = n1\n",
    "    else:\n",
    "        largest = n3\n",
    "else:\n",
    "    if n2 > n3:\n",
    "        largest = n2\n",
    "    else:\n",
    "        largest = n3\n",
    "\n",
    "# Print the largest number among the three\n",
    "print(f'The largest number among {n1}, {n2}, and {n3} is {largest}')"
   ]
  },
  {
   "cell_type": "code",
   "execution_count": 8,
   "id": "00c8032c",
   "metadata": {},
   "outputs": [
    {
     "name": "stdout",
     "output_type": "stream",
     "text": [
      "Enter a number: -98\n",
      "The absoulute value of -98 is: 98\n"
     ]
    }
   ],
   "source": [
    "#5.\n",
    "\n",
    "# Get input from the user for a number\n",
    "number = int(input('Enter a number: '))\n",
    "\n",
    "# Check if the number is negative\n",
    "if number < 0:\n",
    "    # If negative, calculate the absolute value using the negation\n",
    "    absolute_value = -number\n",
    "    print(f'The absolute value of {number} is: {absolute_value}')\n",
    "else:\n",
    "    # If non-negative, the number is its own absolute value\n",
    "    absolute_value = number\n",
    "    print(f'The absolute value of {number} is: {absolute_value}')"
   ]
  },
  {
   "cell_type": "code",
   "execution_count": 9,
   "id": "118985f5",
   "metadata": {},
   "outputs": [
    {
     "name": "stdout",
     "output_type": "stream",
     "text": [
      "Enter a character: o\n",
      "The character o is a vowel.\n"
     ]
    }
   ],
   "source": [
    "#6.\n",
    "\n",
    "# Get input from the user for a character\n",
    "char = input('Enter a character: ')\n",
    "\n",
    "# Check if the entered input is a single character\n",
    "if len(char) == 1:\n",
    "    # Convert the character to lowercase for case-insensitive comparison\n",
    "    char = char.lower()\n",
    "\n",
    "    # Check if the character is a vowel\n",
    "    if char in ['a', 'e', 'i', 'o', 'u']:\n",
    "        print(f'The character {char} is a vowel.')\n",
    "    else:\n",
    "        print(f'The character {char} is a consonant.')\n",
    "else:\n",
    "    print('Please enter a single character.')\n"
   ]
  },
  {
   "cell_type": "code",
   "execution_count": 10,
   "id": "58384c97",
   "metadata": {},
   "outputs": [
    {
     "name": "stdout",
     "output_type": "stream",
     "text": [
      "Enter the age: 89\n",
      "You are an eligible voter\n"
     ]
    }
   ],
   "source": [
    "#7.\n",
    "\n",
    "# Ask the user for their age and convert it to an integer\n",
    "age = int(input('Enter the age: '))\n",
    "\n",
    "# Check if the age is greater than or equal to 18\n",
    "if age >= 18:\n",
    "    # If the age is 18 or older, the person is an eligible voter\n",
    "    print('You are an eligible voter')\n",
    "else:\n",
    "    # If the age is less than 18, the person is not eligible to vote\n",
    "    print('You are not eligible to vote')"
   ]
  },
  {
   "cell_type": "code",
   "execution_count": 11,
   "id": "908de5de",
   "metadata": {},
   "outputs": [
    {
     "name": "stdout",
     "output_type": "stream",
     "text": [
      "Enter the purchase amount: ₹ 8900\n",
      "The amount you will have to pay after the discount is: ₹7120.00\n"
     ]
    }
   ],
   "source": [
    "#8.\n",
    "\n",
    "# Input the purchase amount in INR (₹)\n",
    "purchase_amount = float(input(\"Enter the purchase amount: ₹ \"))\n",
    "\n",
    "# Define discount rates for different purchase amount ranges\n",
    "discount1 = 0.05  # 5% discount\n",
    "discount2 = 0.10  # 10% discount\n",
    "discount3 = 0.15  # 15% discount\n",
    "discount4 = 0.20  # 20% discount\n",
    "discount5 = 0.30  # 30% discount\n",
    "\n",
    "# Initialize a variable to hold the discounted price\n",
    "disc_price = 0.0\n",
    "\n",
    "# Determine the discount based on the purchase amount using elif statements\n",
    "if purchase_amount < 1000:\n",
    "    disc_price = purchase_amount\n",
    "elif 1000 <= purchase_amount < 3000:\n",
    "    disc_price = purchase_amount - (purchase_amount * discount1)\n",
    "elif 3000 <= purchase_amount < 5000:\n",
    "    disc_price = purchase_amount - (purchase_amount * discount2)\n",
    "elif 5000 <= purchase_amount < 7000:\n",
    "    disc_price = purchase_amount - (purchase_amount * discount3)\n",
    "elif 7000 <= purchase_amount < 10000:\n",
    "    disc_price = purchase_amount - (purchase_amount * discount4)\n",
    "else:\n",
    "    disc_price = purchase_amount - (purchase_amount * discount5)\n",
    "\n",
    "# Display the discounted price to the user\n",
    "print(f'The amount you will have to pay after the discount is: ₹{disc_price:.2f}')"
   ]
  },
  {
   "cell_type": "code",
   "execution_count": 12,
   "id": "46f81b1f",
   "metadata": {},
   "outputs": [
    {
     "name": "stdout",
     "output_type": "stream",
     "text": [
      "Enter the starting number: 10\n",
      "Enter the ending number: 35\n",
      "Enter the number: 36\n",
      "The number doesn't lie within the specified range\n"
     ]
    }
   ],
   "source": [
    "#9.\n",
    "\n",
    "# Get input for the starting and ending numbers of the range\n",
    "r1 = int(input('Enter the starting number: '))\n",
    "r2 = int(input('Enter the ending number: '))\n",
    "\n",
    "# Get input for the number to be checked\n",
    "number = int(input('Enter the number: '))\n",
    "\n",
    "# Check if the number is within the specified range using the range() function\n",
    "if number in range(r1, r2 + 1):\n",
    "    print('The number lies within the specified range.')\n",
    "else:\n",
    "    print(\"The number doesn't lie within the specified range.\")"
   ]
  },
  {
   "cell_type": "code",
   "execution_count": 13,
   "id": "95c48ad5",
   "metadata": {},
   "outputs": [
    {
     "name": "stdout",
     "output_type": "stream",
     "text": [
      "Enter the mark to check your grade: 96\n",
      "The grade obtained by you is: A\n"
     ]
    }
   ],
   "source": [
    "#10.\n",
    "\n",
    "# Ask the user for a score and convert it to an integer\n",
    "score = int(input('Enter the mark to check your grade: '))\n",
    "\n",
    "# Determine the grade based on the score using if-elif-else statements\n",
    "if score >= 90 and score < 100:\n",
    "    grade = 'A'\n",
    "elif score >= 80 and score < 90:\n",
    "    grade = 'B'\n",
    "elif score >= 70 and score < 80:\n",
    "    grade = 'C'\n",
    "elif score >= 60 and score < 70:\n",
    "    grade = 'D'\n",
    "else:\n",
    "    grade = 'F'\n",
    "\n",
    "# Print the grade obtained by the student\n",
    "print(f'The grade obtained by you is: {grade}')"
   ]
  },
  {
   "cell_type": "code",
   "execution_count": 15,
   "id": "0343046a",
   "metadata": {},
   "outputs": [
    {
     "name": "stdout",
     "output_type": "stream",
     "text": [
      "Enter a string: \n",
      "The string is empty.\n"
     ]
    }
   ],
   "source": [
    "#11.\n",
    "\n",
    "# Get input from the user for a string\n",
    "user_input = input('Enter a string: ')\n",
    "\n",
    "# Check if the string is empty using if-else statements\n",
    "if user_input:\n",
    "    print('The string is not empty.')\n",
    "else:\n",
    "    print('The string is empty.')\n"
   ]
  },
  {
   "cell_type": "code",
   "execution_count": 16,
   "id": "c0dcc473",
   "metadata": {},
   "outputs": [
    {
     "name": "stdout",
     "output_type": "stream",
     "text": [
      "Enter the length of the first side: 5\n",
      "Enter the length of the second side: 3\n",
      "Enter the length of the third side: 4\n",
      "The triangle with side lengths 5, 3, and 4 is a scalene triangle.\n"
     ]
    }
   ],
   "source": [
    "#12.\n",
    "\n",
    "#Ask the user to input the three sides of triangle and convert them to integers\n",
    "side1 = int(input(\"Enter the length of the first side: \"))\n",
    "side2 = int(input(\"Enter the length of the second side: \"))\n",
    "side3 = int(input(\"Enter the length of the third side: \"))\n",
    "\n",
    "# Check if the triangle is valid\n",
    "if side1 + side2 > side3 and side1 + side3 > side2 and side2 + side3 > side1:\n",
    "    # Determine the type of triangle\n",
    "    if side1 == side2 == side3:\n",
    "        triangle_type = \"equilateral\"\n",
    "    elif side1 == side2 or side1 == side3 or side2 == side3:\n",
    "        triangle_type = \"isosceles\"\n",
    "    else:\n",
    "        triangle_type = \"scalene\"\n",
    "\n",
    "    # Output the result\n",
    "    print(f\"The triangle with side lengths {side1}, {side2}, and {side3} is a {triangle_type} triangle.\")\n",
    "else:\n",
    "    print(\"The given side lengths do not form a valid triangle.\")"
   ]
  },
  {
   "cell_type": "code",
   "execution_count": 17,
   "id": "f20f5fdb",
   "metadata": {},
   "outputs": [
    {
     "name": "stdout",
     "output_type": "stream",
     "text": [
      "Enter the number: 5\n",
      "The day of the week corresponding to 5 is Friday.\n"
     ]
    }
   ],
   "source": [
    "#13.\n",
    "\n",
    "# Ask the user for a number representing the day of the week\n",
    "day = int(input('Enter the number: '))\n",
    "\n",
    "# Create a list of day names corresponding to the numbers (1 to 7)\n",
    "days = ['Monday', 'Tuesday', 'Wednesday', 'Thursday', 'Friday', 'Saturday', 'Sunday']\n",
    "\n",
    "# Check if the input day falls within the valid range (1 to 7)\n",
    "if day >= 1 and day <= 7:\n",
    "    # Since the list is zero-indexed, subtract 1 from the input to get the correct index\n",
    "    day_name = days[day - 1]\n",
    "else:\n",
    "    # Handle the case where the input is not a valid day number\n",
    "    day_name = \"Invalid\"\n",
    "\n",
    "# Print the corresponding day of the week or an error message for invalid input\n",
    "if day_name != \"Invalid\":\n",
    "    print(f'The day of the week corresponding to {day} is {day_name}.')\n",
    "else:\n",
    "    print('Invalid input. Please enter a number between 1 and 7.')"
   ]
  },
  {
   "cell_type": "code",
   "execution_count": 5,
   "id": "450245c2",
   "metadata": {},
   "outputs": [
    {
     "name": "stdout",
     "output_type": "stream",
     "text": [
      "Enter the year you want to check: 2020\n",
      "2020 is a leap year\n"
     ]
    }
   ],
   "source": [
    "#14\n",
    "\n",
    "def leap_year(year):\n",
    "    # Check if the year is divisible by 4\n",
    "    if year % 4 == 0:\n",
    "        # If the year is divisible by 100\n",
    "        if year % 100 == 0:\n",
    "            # Check if the year is divisible by 400\n",
    "            if year % 400 == 0:\n",
    "                # If divisible by 400, it's a leap year\n",
    "                return True\n",
    "            else:\n",
    "                # If not divisible by 400, it's not a leap year\n",
    "                return False\n",
    "        else:\n",
    "            # If divisible by 4 but not by 100, it's a leap year\n",
    "            return True\n",
    "    else:\n",
    "        # If not divisible by 4, it's not a leap year\n",
    "        return False\n",
    "\n",
    "# Take user input for the year to check\n",
    "year = int(input('Enter the year you want to check: '))\n",
    "\n",
    "# Check if the entered year is a leap year and display the result\n",
    "if leap_year(year):\n",
    "    print(f'{year} is a leap year')\n",
    "else:\n",
    "    print(f'{year} is not a leap year')\n"
   ]
  },
  {
   "cell_type": "code",
   "execution_count": null,
   "id": "b5697ed9",
   "metadata": {},
   "outputs": [],
   "source": [
    "#15\n",
    "\n",
    "We can use the assert statement to add debugging checks within if-else blocks by placing them at points where we want to verify certain conditions. \n",
    "If the condition specified in the assert statement is False, an AssertionError will be raised. Here is an example:\n",
    "    \n",
    "def process_data(data):\n",
    "    # Check if the data list is not empty\n",
    "    assert data, \"Data list should not be empty\"\n",
    "    \n",
    "    # Process the data (assuming it's not empty)\n",
    "    result = sum(data)\n",
    "    \n",
    "    return result\n",
    "\n",
    "# Example usage\n",
    "data_list = [1, 2, 3, 4, 5]\n",
    "\n",
    "# Call the function and process the data\n",
    "result_value = process_data(data_list)\n",
    "print(f\"Result: {result_value}\")\n"
   ]
  },
  {
   "cell_type": "code",
   "execution_count": 6,
   "id": "e01cb508",
   "metadata": {},
   "outputs": [
    {
     "name": "stdout",
     "output_type": "stream",
     "text": [
      "Enter your age: 58\n",
      "Sorry, you are not eligible for a senior citizen discount.\n"
     ]
    }
   ],
   "source": [
    "#16\n",
    "\n",
    "# Get user input for age\n",
    "age = int(input('Enter your age: '))\n",
    "\n",
    "# Define the age threshold for senior citizen discount\n",
    "senior_citizen_age = 60\n",
    "\n",
    "# Check eligibility for a senior citizen discount\n",
    "if age >= senior_citizen_age:\n",
    "    print(\"Congratulations! You are eligible for a senior citizen discount.\")\n",
    "else:\n",
    "    print(\"Sorry, you are not eligible for a senior citizen discount.\")\n"
   ]
  },
  {
   "cell_type": "code",
   "execution_count": 7,
   "id": "b75fe707",
   "metadata": {},
   "outputs": [
    {
     "name": "stdout",
     "output_type": "stream",
     "text": [
      "Enter a single character: B\n",
      "The character \"B\" is uppercase.\n"
     ]
    }
   ],
   "source": [
    "#17\n",
    "\n",
    "# Get user input for a single character\n",
    "char = input('Enter a single character: ')\n",
    "\n",
    "# Check and categorize the character\n",
    "if char.isalpha():\n",
    "    if char.islower():\n",
    "        print(f'The character \"{char}\" is lowercase.')\n",
    "    elif char.isupper():\n",
    "        print(f'The character \"{char}\" is uppercase.')\n",
    "else:\n",
    "    print(f'The input \"{char}\" is not a valid alphabetic character.')\n"
   ]
  },
  {
   "cell_type": "code",
   "execution_count": 8,
   "id": "58cd4243",
   "metadata": {},
   "outputs": [
    {
     "name": "stdout",
     "output_type": "stream",
     "text": [
      "Enter the coefficient a: 2\n",
      "Enter the coefficient b: 3\n",
      "Enter the coefficient c: 4\n",
      "The roots are complex: -0.75 + 1.1989578808281798i and -0.75 - 1.1989578808281798i\n"
     ]
    }
   ],
   "source": [
    "#18\n",
    "\n",
    "# Ask the user for the coefficients of the quadratic equation\n",
    "a = float(input('Enter the coefficient a: '))\n",
    "b = float(input('Enter the coefficient b: '))\n",
    "c = float(input('Enter the coefficient c: '))\n",
    "\n",
    "# Calculate the discriminant (the value inside the square root)\n",
    "discriminant = b**2 - 4*a*c\n",
    "\n",
    "# Check if the discriminant is positive, negative, or zero to determine the type of roots\n",
    "if discriminant > 0:\n",
    "    # If the discriminant is positive, there are two real and distinct roots\n",
    "    root1 = (-b + (discriminant**0.5)) / (2*a)\n",
    "    root2 = (-b - (discriminant**0.5)) / (2*a)\n",
    "    print(f'The roots are real and distinct: {root1} and {root2}')\n",
    "elif discriminant == 0:\n",
    "    # If the discriminant is zero, there is one real root (a repeated root)\n",
    "    root = -b / (2*a)\n",
    "    print(f'The root is real and repeated: {root}')\n",
    "else:\n",
    "    # If the discriminant is negative, there are two complex roots\n",
    "    real_part = -b / (2*a)\n",
    "    imaginary_part = (abs(discriminant)**0.5) / (2*a)\n",
    "    print(f'The roots are complex: {real_part} + {imaginary_part}i and {real_part} - {imaginary_part}i')"
   ]
  },
  {
   "cell_type": "code",
   "execution_count": 9,
   "id": "fd4378b5",
   "metadata": {},
   "outputs": [
    {
     "name": "stdout",
     "output_type": "stream",
     "text": [
      "Enter the year: 2020\n",
      "The year 2020 is not a century year.\n"
     ]
    }
   ],
   "source": [
    "#19\n",
    "\n",
    "# Get user input for the year\n",
    "year = int(input('Enter the year: '))\n",
    "\n",
    "# Check if the year is a century year\n",
    "if year % 100 == 0:\n",
    "    print(f'The year {year} is a century year.')\n",
    "else:\n",
    "    print(f'The year {year} is not a century year.')\n"
   ]
  },
  {
   "cell_type": "code",
   "execution_count": 14,
   "id": "81fe5d1a",
   "metadata": {},
   "outputs": [
    {
     "name": "stdout",
     "output_type": "stream",
     "text": [
      "Enter a number: 82\n",
      "The number 82 is not a perfect square.\n"
     ]
    }
   ],
   "source": [
    "#20\n",
    "\n",
    "# Get user input for the number\n",
    "number = int(input('Enter a number: '))\n",
    "\n",
    "# Check if the number is a perfect square\n",
    "if number >= 0 and (int(number**0.5))**2 == number:\n",
    "    print(f'The number {number} is a perfect square.')\n",
    "else:\n",
    "    print(f'The number {number} is not a perfect square.')\n"
   ]
  },
  {
   "cell_type": "code",
   "execution_count": null,
   "id": "c32eecd0",
   "metadata": {},
   "outputs": [],
   "source": [
    "#21\n",
    "\n",
    "The continue statement is used to skip the rest of the code inside a loop for the current iteration and move on to the next iteration. \n",
    "When the continue statement is encountered, the loop immediately jumps to the next iteration without executing the remaining code within the loop for the current iteration.\n",
    "\n",
    "Example:\n",
    "    \n",
    "for i in range(5):\n",
    "    if i == 2:\n",
    "        continue\n",
    "    print(i)\n",
    "\n",
    "#Output\n",
    "\n",
    "0\n",
    "1\n",
    "3\n",
    "4\n",
    "\n",
    "The break statement is used to exit a loop prematurely, regardless of the loop condition. \n",
    "When the break statement is encountered, the loop is immediately terminated, and the program continues with the next statement after the loop.\n",
    "\n",
    "Example:\n",
    "\n",
    "for i in range(5):\n",
    "    if i == 3:\n",
    "        break\n",
    "    print(i)\n",
    "\n",
    "#Output\n",
    "\n",
    "0\n",
    "1\n",
    "2\n",
    "\n"
   ]
  },
  {
   "cell_type": "code",
   "execution_count": 24,
   "id": "a3582d75",
   "metadata": {},
   "outputs": [
    {
     "name": "stdout",
     "output_type": "stream",
     "text": [
      "Enter the weight (in kilograms): 50\n",
      "Enter the height (in meters): 168\n",
      "Your BMI score is 0.002, and you are categorized as Underweight\n"
     ]
    }
   ],
   "source": [
    "#22\n",
    "\n",
    "# Input weight (in kilograms) and height (in meters) from the user\n",
    "weight = float(input('Enter the weight (in kilograms): '))\n",
    "height = float(input('Enter the height (in meters): '))\n",
    "\n",
    "# Check if height is non-zero before calculating BMI\n",
    "if height == 0:\n",
    "    print(\"Error: Height should be a non-zero value.\")\n",
    "else:\n",
    "    # Calculate BMI using the formula: weight / (height^2)\n",
    "    bmi = weight / (height ** 2)\n",
    "\n",
    "    # Determine the BMI category using conditional statements\n",
    "    if bmi < 18.5:\n",
    "        category = \"Underweight\"\n",
    "    elif 18.5 <= bmi < 24.9:\n",
    "        category = \"Normal\"\n",
    "    elif 25 <= bmi < 29.9:\n",
    "        category = \"Overweight\"\n",
    "    else:\n",
    "        category = \"Obese\"\n",
    "\n",
    "    # Display the BMI score and category to the user with proper formatting\n",
    "    print(f'Your BMI score is {bmi:.3f}, and you are categorized as {category}')"
   ]
  },
  {
   "cell_type": "code",
   "execution_count": null,
   "id": "0cfab42b",
   "metadata": {},
   "outputs": [],
   "source": [
    "#23\n",
    "\n",
    "The filter() function in Python is typically used with a filtering function that returns True or False for each element in an iterable. \n",
    "It filters out the elements for which the function returns False. \n",
    "To use filter() in combination with if-else statements, we need to provide a function that includes an if-else condition to determine whether an element should be included in the result.\n",
    "\n",
    "# Sample list of numbers\n",
    "numbers = [1, 2, 3, 4, 5, 6, 7, 8, 9, 10]\n",
    "\n",
    "# Define a function with if-else condition to filter even numbers\n",
    "def filter_even(num):\n",
    "    return True if num % 2 == 0 else False\n",
    "\n",
    "# Use filter() with the filtering function\n",
    "filtered_numbers = filter(filter_even, numbers)\n",
    "\n",
    "# Convert the filter object to a list and print the result\n",
    "result = list(filtered_numbers)\n",
    "print(result)\n"
   ]
  },
  {
   "cell_type": "code",
   "execution_count": 25,
   "id": "7c2a1e2d",
   "metadata": {},
   "outputs": [
    {
     "name": "stdout",
     "output_type": "stream",
     "text": [
      "Enter a number: 58\n",
      "58 is not a prime number.\n"
     ]
    }
   ],
   "source": [
    "#24\n",
    "\n",
    "# Ask the user to input a number\n",
    "num = int(input(\"Enter a number: \"))\n",
    "\n",
    "# Check if the number is greater than 1\n",
    "if num > 1:\n",
    "    is_prime = True\n",
    "\n",
    "    # Check for factors from 2 to the square root of the number\n",
    "    for i in range(2, int(num**0.5) + 1):\n",
    "        if num % i == 0:\n",
    "            is_prime = False\n",
    "            break\n",
    "\n",
    "    # Print the result\n",
    "    if is_prime:\n",
    "        print(f\"{num} is a prime number.\")\n",
    "    else:\n",
    "        print(f\"{num} is not a prime number.\")\n",
    "else:\n",
    "    print(f\"{num} is not a prime number.\")"
   ]
  },
  {
   "cell_type": "code",
   "execution_count": null,
   "id": "5cc140d7",
   "metadata": {},
   "outputs": [],
   "source": [
    "#Map"
   ]
  },
  {
   "cell_type": "code",
   "execution_count": 2,
   "id": "fd9714bb",
   "metadata": {},
   "outputs": [
    {
     "name": "stdout",
     "output_type": "stream",
     "text": [
      "[1, 4, 9, 16, 25]\n"
     ]
    }
   ],
   "source": [
    "#1.\n",
    "\n",
    "The map() function in Python is a built-in function that is used to apply a specified function to all the items in an iterable (e.g., a list, tuple, or string) and return an iterator that produces the results. \n",
    "The basic syntax of the map() function is as follows:\n",
    "\n",
    "map(function, iterable, ...)\n",
    "\n",
    "Here, function is the function to apply to each item in the iterable. \n",
    "You can pass multiple iterables, and the function will be applied to the items of all iterables in parallel. \n",
    "\n",
    "Example:\n",
    "\n",
    "# Define a function to square a number\n",
    "def square(x):\n",
    "    return x ** 2\n",
    "\n",
    "# Create a list of numbers\n",
    "numbers = [1, 2, 3, 4, 5]\n",
    "\n",
    "# Use map() to apply the square function to each element of the list\n",
    "squared_numbers = map(square, numbers)\n",
    "\n",
    "# Convert the result to a list and print it\n",
    "result_list = list(squared_numbers)\n",
    "print(result_list)\n"
   ]
  },
  {
   "cell_type": "code",
   "execution_count": 5,
   "id": "e9d68121",
   "metadata": {},
   "outputs": [
    {
     "name": "stdout",
     "output_type": "stream",
     "text": [
      "The squares of all the numbers in the list are [9, 36, 81, 4, 25, 36, 1, 4, 49, 64, 16]\n"
     ]
    }
   ],
   "source": [
    "#2.\n",
    "\n",
    "# List of numbers\n",
    "numbers = [3, 6, 9, 2, 5, 6, 1, 2, 7, 8, 4]\n",
    "\n",
    "# Use map() with a lambda function to square each element in the list\n",
    "squared_numbers = map(lambda x: x**2, numbers)\n",
    "\n",
    "# Convert the result to a list and print it\n",
    "print(f'The squares of all the numbers in the list are {list(squared_numbers)}')"
   ]
  },
  {
   "cell_type": "code",
   "execution_count": null,
   "id": "748c9bb9",
   "metadata": {},
   "outputs": [],
   "source": [
    "#3.\n",
    "\n",
    "The map() function and list comprehensions in Python serve similar purposes by applying operations to each element of an iterable. \n",
    "map() is specifically designed for this purpose, taking a function and one or more iterables as arguments and returning an iterator. \n",
    "List comprehensions, denoted by square brackets, directly create new lists based on existing iterables and can include conditions for more complex filtering. \n",
    "The choice between them often boils down to readability, with list comprehensions being more concise for simple operations and map() being advantageous when using pre-existing functions or dealing with more complex transformations. \n",
    "List comprehensions offer greater flexibility due to the ability to include conditions, while map() may be preferred for its explicitness when applying a known function to every element. \n",
    "Ultimately, the decision depends on personal preference, readability, and the specific requirements of the task at hand."
   ]
  },
  {
   "cell_type": "code",
   "execution_count": 6,
   "id": "cbe95551",
   "metadata": {},
   "outputs": [
    {
     "name": "stdout",
     "output_type": "stream",
     "text": [
      "['MILK', 'TEA', 'WATER', 'JUICE']\n"
     ]
    }
   ],
   "source": [
    "#4.\n",
    "\n",
    "# Define a function to convert a string to uppercase\n",
    "def uppercase(x):\n",
    "    y = x.upper()\n",
    "    return y\n",
    "\n",
    "# List of strings\n",
    "name = ['milk', 'tea', 'water', 'juice']\n",
    "\n",
    "# Use map() to apply the uppercase function to each string in the list\n",
    "upper_list = map(uppercase, name)\n",
    "\n",
    "# Convert the result to a list and print it\n",
    "print(list(upper_list))\n"
   ]
  },
  {
   "cell_type": "code",
   "execution_count": 7,
   "id": "24c3cfe2",
   "metadata": {},
   "outputs": [
    {
     "name": "stdout",
     "output_type": "stream",
     "text": [
      "[5, 6, 6, 5, 4, 9, 10, 10, 5]\n"
     ]
    }
   ],
   "source": [
    "#5.\n",
    "\n",
    "# Define a function to calculate the length of a string\n",
    "def count_len(x):\n",
    "    count = len(x)\n",
    "    return count\n",
    "\n",
    "# List of strings\n",
    "str_list = ['apple', 'banana', 'orange', 'grape', 'kiwi', 'pineapple', 'strawberry', 'watermelon', 'mango']\n",
    "\n",
    "# Use map() to apply the count_len function to each string in the list\n",
    "count_list = map(count_len, str_list)\n",
    "\n",
    "# Convert the result to a list and print it\n",
    "print(list(count_list))"
   ]
  },
  {
   "cell_type": "code",
   "execution_count": 8,
   "id": "648899ce",
   "metadata": {},
   "outputs": [
    {
     "name": "stdout",
     "output_type": "stream",
     "text": [
      "['applepie', 'bananasmoothie', 'orangejuice']\n"
     ]
    }
   ],
   "source": [
    "#6.\n",
    "\n",
    "# Define a custom function that takes two arguments and concatenates them\n",
    "def concatenate_strings(a, b):\n",
    "    return a + b\n",
    "\n",
    "# Two lists of strings\n",
    "list1 = ['apple', 'banana', 'orange']\n",
    "list2 = ['pie', 'smoothie', 'juice']\n",
    "\n",
    "# Use map() to apply the custom function to corresponding elements of both lists\n",
    "result_list = map(concatenate_strings, list1, list2)\n",
    "\n",
    "# Convert the result to a list and print it\n",
    "print(list(result_list))\n"
   ]
  },
  {
   "cell_type": "code",
   "execution_count": 9,
   "id": "a8c20baf",
   "metadata": {},
   "outputs": [
    {
     "name": "stdout",
     "output_type": "stream",
     "text": [
      "[32.0, 50.0, 68.0, 86.0, 104.0]\n"
     ]
    }
   ],
   "source": [
    "#7.\n",
    "\n",
    "# Define a function to convert Celsius to Fahrenheit\n",
    "def celsius_to_fahrenheit(celsius):\n",
    "    return (celsius * 9/5) + 32\n",
    "\n",
    "# List of temperatures in Celsius\n",
    "celsius_temperatures = [0, 10, 20, 30, 40]\n",
    "\n",
    "# Use map() to apply the conversion function to each temperature in the list\n",
    "fahrenheit_temperatures = map(celsius_to_fahrenheit, celsius_temperatures)\n",
    "\n",
    "# Convert the result to a list and print it\n",
    "print(list(fahrenheit_temperatures))\n"
   ]
  },
  {
   "cell_type": "code",
   "execution_count": 12,
   "id": "bb9162c7",
   "metadata": {},
   "outputs": [
    {
     "name": "stdout",
     "output_type": "stream",
     "text": [
      "[4, 8, 4, 9, 6]\n"
     ]
    }
   ],
   "source": [
    "#8.\n",
    "\n",
    "# List of floating-point numbers\n",
    "float_numbers = [4.2, 7.8, 3.5, 9.1, 6.4]\n",
    "\n",
    "# Use map() with the built-in round() function to round each number to the nearest integer\n",
    "rounded_integers = map(round, float_numbers)\n",
    "\n",
    "# Convert the result to a list and print it\n",
    "print(list(rounded_integers))\n"
   ]
  },
  {
   "cell_type": "code",
   "execution_count": null,
   "id": "b5f4500c",
   "metadata": {},
   "outputs": [],
   "source": [
    "#Reduce"
   ]
  },
  {
   "cell_type": "code",
   "execution_count": 2,
   "id": "f9f14eab",
   "metadata": {},
   "outputs": [
    {
     "name": "stdout",
     "output_type": "stream",
     "text": [
      "The product of the numbers is: 120\n"
     ]
    }
   ],
   "source": [
    "#1.\n",
    "\n",
    "The reduce() function in Python is part of the functools module. \n",
    "It is used to successively apply a binary function (a function that takes two arguments) to the items of an iterable, cumulatively reducing the iterable to a single value. \n",
    "The reduce() function takes three arguments: the binary function, the iterable, and an optional initializer.\n",
    "    \n",
    "#Example:\n",
    "    \n",
    "from functools import reduce\n",
    "\n",
    "# Define a binary function to multiply two numbers\n",
    "def multiply(x, y):\n",
    "    return x * y\n",
    "\n",
    "# List of numbers\n",
    "numbers = [2, 3, 4, 5]\n",
    "\n",
    "# Use reduce() to find the product of all numbers in the list\n",
    "product = reduce(multiply, numbers)\n",
    "\n",
    "print(f'The product of the numbers is: {product}')\n"
   ]
  },
  {
   "cell_type": "code",
   "execution_count": 3,
   "id": "e74bc69c",
   "metadata": {},
   "outputs": [
    {
     "name": "stdout",
     "output_type": "stream",
     "text": [
      "The product of all the elements in the list is: 362880\n"
     ]
    }
   ],
   "source": [
    "#2.\n",
    "\n",
    "from functools import reduce\n",
    "\n",
    "# List of numbers\n",
    "list1 = [6, 9, 7, 8, 5, 3, 2, 4]\n",
    "\n",
    "# Define a lambda function to calculate the product of two numbers\n",
    "product_lambda = lambda x, y: x * y\n",
    "\n",
    "# Use reduce() with the lambda function to find the product of all elements in the list\n",
    "product = reduce(product_lambda, list1)\n",
    "\n",
    "# Print the result\n",
    "print(f'The product of all the elements in the list is: {product}')"
   ]
  },
  {
   "cell_type": "code",
   "execution_count": 5,
   "id": "5b8994dc",
   "metadata": {},
   "outputs": [
    {
     "name": "stdout",
     "output_type": "stream",
     "text": [
      "The maximum number of the list [6, 9, 7, 8, 5, 3, 2, 4] is 9\n"
     ]
    }
   ],
   "source": [
    "#3.\n",
    "\n",
    "from functools import reduce\n",
    "\n",
    "# List of numbers\n",
    "list1 = [6, 9, 7, 8, 5, 3, 2, 4]\n",
    "\n",
    "# Define a lambda function to find the maximum of two numbers\n",
    "max_lambda = lambda x, y: x if x > y else y\n",
    "\n",
    "# Use reduce() with the lambda function to find the maximum number in the list\n",
    "max_num = reduce(max_lambda, list1)\n",
    "\n",
    "# Print the result\n",
    "print('The maximum number of the list {0} is {1}'.format(list1, max_num))"
   ]
  },
  {
   "cell_type": "code",
   "execution_count": 6,
   "id": "104374da",
   "metadata": {},
   "outputs": [
    {
     "name": "stdout",
     "output_type": "stream",
     "text": [
      "The concatenated string is: applebananaorangegrapekiwipineapple\n"
     ]
    }
   ],
   "source": [
    "#4.\n",
    "\n",
    "from functools import reduce\n",
    "\n",
    "# List of strings (limited to a maximum of 6 strings)\n",
    "string_list = ['apple', 'banana', 'orange', 'grape', 'kiwi', 'pineapple']\n",
    "\n",
    "# Define a lambda function to concatenate two strings\n",
    "concatenate_lambda = lambda x, y: x + y\n",
    "\n",
    "# Use reduce() with the lambda function to concatenate all strings in the list\n",
    "result = reduce(concatenate_lambda, string_list)\n",
    "\n",
    "# Print the result\n",
    "print(f'The concatenated string is: {result}')"
   ]
  },
  {
   "cell_type": "code",
   "execution_count": 10,
   "id": "8c8ca4f9",
   "metadata": {},
   "outputs": [
    {
     "name": "stdout",
     "output_type": "stream",
     "text": [
      "Enter a number: 8\n",
      "The factorial of 8 is: 40320\n"
     ]
    }
   ],
   "source": [
    "#5.\n",
    "\n",
    "from functools import reduce\n",
    "\n",
    "# Define a function to calculate the factorial of a number\n",
    "def factorial(n):\n",
    "    return reduce(lambda x, y: x * y, range(1, n + 1))\n",
    "\n",
    "# Input: Number for which factorial needs to be calculated\n",
    "number = int(input(\"Enter a number: \"))\n",
    "\n",
    "# Calculate the factorial using the defined function\n",
    "result = factorial(number)\n",
    "\n",
    "# Print the result\n",
    "print(f'The factorial of {number} is: {result}')"
   ]
  },
  {
   "cell_type": "code",
   "execution_count": 11,
   "id": "5f25da37",
   "metadata": {},
   "outputs": [
    {
     "name": "stdout",
     "output_type": "stream",
     "text": [
      "The GCD of the numbers [24, 36, 48, 60] is: 12\n"
     ]
    }
   ],
   "source": [
    "#6.\n",
    "\n",
    "from functools import reduce\n",
    "import math\n",
    "\n",
    "# Define a function to find the GCD of two numbers\n",
    "def gcd(x, y):\n",
    "    return math.gcd(x, y)\n",
    "\n",
    "# List of numbers\n",
    "numbers = [24, 36, 48, 60]\n",
    "\n",
    "# Use reduce() with the gcd function to find the GCD of all numbers in the list\n",
    "result_gcd = reduce(gcd, numbers)\n",
    "\n",
    "# Print the result\n",
    "print(f'The GCD of the numbers {numbers} is: {result_gcd}')\n"
   ]
  },
  {
   "cell_type": "code",
   "execution_count": 12,
   "id": "a456a7f5",
   "metadata": {},
   "outputs": [
    {
     "name": "stdout",
     "output_type": "stream",
     "text": [
      "Enter a number: 587\n",
      "The sum of all digit of the number you input is:  20\n"
     ]
    }
   ],
   "source": [
    "#7.\n",
    "\n",
    "from functools import reduce\n",
    "\n",
    "# Get a number from the user\n",
    "num = int(input('Enter a number: '))\n",
    "\n",
    "# Convert the number to a string to extract individual digits\n",
    "str_num = str(num)\n",
    "\n",
    "# Initialize empty lists for strings and numbers\n",
    "str_list = []\n",
    "num_list = []\n",
    "\n",
    "# Loop to convert each digit from string to integer\n",
    "for i in str_num:\n",
    "    str_list.append(i)\n",
    "\n",
    "for j in str_list:\n",
    "    num_list.append(int(j))\n",
    "\n",
    "# Use reduce() with a lambda function to find the sum of digits\n",
    "sum_num = reduce(lambda x, y: x + y, num_list)\n",
    "\n",
    "# Print the result\n",
    "print('The sum of all digits of the number you input is:', sum_num)\n"
   ]
  },
  {
   "cell_type": "code",
   "execution_count": null,
   "id": "bf36c859",
   "metadata": {},
   "outputs": [],
   "source": [
    "#Filter"
   ]
  },
  {
   "cell_type": "code",
   "execution_count": 13,
   "id": "585f5682",
   "metadata": {},
   "outputs": [
    {
     "name": "stdout",
     "output_type": "stream",
     "text": [
      "[2, 4, 6, 8, 10]\n"
     ]
    }
   ],
   "source": [
    "#1.\n",
    "\n",
    "The filter() function in Python is a built-in function that is used to filter elements from an iterable based on a specified function or condition. \n",
    "It takes two arguments: a function and an iterable. \n",
    "The function is applied to each element of the iterable, and only the elements for which the function returns True are included in the result.\n",
    "\n",
    "#Example:\n",
    "\n",
    "# Define a function to check if a number is even\n",
    "def is_even(x):\n",
    "    return x % 2 == 0\n",
    "\n",
    "# List of numbers\n",
    "numbers = [1, 2, 3, 4, 5, 6, 7, 8, 9, 10]\n",
    "\n",
    "# Use filter() to filter even numbers\n",
    "even_numbers = filter(is_even, numbers)\n",
    "\n",
    "# Convert the result to a list and print it\n",
    "result_list = list(even_numbers)\n",
    "print(result_list)\n"
   ]
  },
  {
   "cell_type": "code",
   "execution_count": 15,
   "id": "0b314044",
   "metadata": {},
   "outputs": [
    {
     "name": "stdout",
     "output_type": "stream",
     "text": [
      "The list of even number from the list of [89, 78, 54, 15, 61, 37, 81, 54, 96, 32, 24, 63] is [78, 54, 54, 96, 32, 24]\n"
     ]
    }
   ],
   "source": [
    "#2.\n",
    "\n",
    "# List of integers\n",
    "int_list = [89, 78, 54, 15, 61, 37, 81, 54, 96, 32, 24, 63]\n",
    "\n",
    "# Use filter() with a lambda function to filter even numbers\n",
    "even_list = list(filter(lambda x: x % 2 == 0, int_list))\n",
    "\n",
    "# Print the result\n",
    "print(f'The list of even numbers from the list {int_list} is {even_list}')"
   ]
  },
  {
   "cell_type": "code",
   "execution_count": 16,
   "id": "f2010719",
   "metadata": {},
   "outputs": [
    {
     "name": "stdout",
     "output_type": "stream",
     "text": [
      "Names starting with the letter \"E\": ['Eva']\n"
     ]
    }
   ],
   "source": [
    "#3.\n",
    "\n",
    "# List of names\n",
    "names_list = ['Alice', 'Bob', 'Charlie', 'David', 'Eva', 'Frank', 'Grace', 'Hank']\n",
    "\n",
    "# Specify the letter to filter names\n",
    "starting_letter = 'E'\n",
    "\n",
    "# Use filter() with a lambda function to select names starting with the specified letter\n",
    "selected_names = list(filter(lambda name: name.startswith(starting_letter), names_list))\n",
    "\n",
    "# Print the result\n",
    "print(f'Names starting with the letter \"{starting_letter}\": {selected_names}')\n"
   ]
  },
  {
   "cell_type": "code",
   "execution_count": 17,
   "id": "325c6e5a",
   "metadata": {},
   "outputs": [
    {
     "name": "stdout",
     "output_type": "stream",
     "text": [
      "Prime numbers from the list [23, 8, 13, 17, 5, 10, 11, 29, 20] are: [23, 13, 17, 5, 11, 29]\n"
     ]
    }
   ],
   "source": [
    "#4.\n",
    "\n",
    "# Define a function to check if a number is prime\n",
    "def is_prime(n):\n",
    "    if n < 2:\n",
    "        return False\n",
    "    for i in range(2, int(n**0.5) + 1):\n",
    "        if n % i == 0:\n",
    "            return False\n",
    "    return True\n",
    "\n",
    "# List of integers\n",
    "int_list = [23, 8, 13, 17, 5, 10, 11, 29, 20]\n",
    "\n",
    "# Use filter() with the is_prime function to select prime numbers\n",
    "prime_numbers = list(filter(is_prime, int_list))\n",
    "\n",
    "# Print the result\n",
    "print(f'Prime numbers from the list {int_list} are: {prime_numbers}')"
   ]
  },
  {
   "cell_type": "code",
   "execution_count": 18,
   "id": "06ab1205",
   "metadata": {},
   "outputs": [
    {
     "name": "stdout",
     "output_type": "stream",
     "text": [
      "List after removing None values: [1, 'apple', 42, 'banana', 'orange']\n"
     ]
    }
   ],
   "source": [
    "#5.\n",
    "\n",
    "# List with None values\n",
    "mixed_list = [1, None, 'apple', None, 42, 'banana', None, 'orange']\n",
    "\n",
    "# Use filter() with a lambda function to remove None values\n",
    "filtered_list = list(filter(lambda x: x is not None, mixed_list))\n",
    "\n",
    "# Print the result\n",
    "print(f'List after removing None values: {filtered_list}')"
   ]
  },
  {
   "cell_type": "code",
   "execution_count": 19,
   "id": "e4784057",
   "metadata": {},
   "outputs": [
    {
     "name": "stdout",
     "output_type": "stream",
     "text": [
      "Words longer than 6 characters: ['strawberry']\n"
     ]
    }
   ],
   "source": [
    "#6.\n",
    "\n",
    "# List of strings\n",
    "words_list = ['apple', 'banana', 'kiwi', 'orange', 'strawberry', 'grape']\n",
    "\n",
    "# Specify the minimum length for words to be selected\n",
    "min_length = 6\n",
    "\n",
    "# Use filter() with a lambda function to select words longer than the specified length\n",
    "selected_words = list(filter(lambda word: len(word) > min_length, words_list))\n",
    "\n",
    "# Print the result\n",
    "print(f'Words longer than {min_length} characters: {selected_words}')\n"
   ]
  },
  {
   "cell_type": "code",
   "execution_count": 20,
   "id": "33035791",
   "metadata": {},
   "outputs": [
    {
     "name": "stdout",
     "output_type": "stream",
     "text": [
      "Values greater than 25: [30, 45, 35]\n"
     ]
    }
   ],
   "source": [
    "#7.\n",
    "\n",
    "# List of values\n",
    "values_list = [15, 30, 10, 45, 20, 5, 35]\n",
    "\n",
    "# Specify the threshold value\n",
    "threshold = 25\n",
    "\n",
    "# Use filter() with a lambda function to select values greater than the specified threshold\n",
    "selected_values = list(filter(lambda value: value > threshold, values_list))\n",
    "\n",
    "# Print the result\n",
    "print(f'Values greater than {threshold}: {selected_values}')\n"
   ]
  },
  {
   "cell_type": "code",
   "execution_count": null,
   "id": "2471f9bb",
   "metadata": {},
   "outputs": [],
   "source": [
    "#Recursion"
   ]
  },
  {
   "cell_type": "code",
   "execution_count": null,
   "id": "7eae6132",
   "metadata": {},
   "outputs": [],
   "source": [
    "#1.\n",
    "\n",
    "Recursion is a programming concept where a function calls itself to solve a problem by breaking it into smaller subproblems until reaching a base case. \n",
    "It differs from iteration, which uses loops to repeatedly execute a set of statements until a condition is met. "
   ]
  },
  {
   "cell_type": "code",
   "execution_count": 24,
   "id": "ee4cc599",
   "metadata": {},
   "outputs": [
    {
     "name": "stdout",
     "output_type": "stream",
     "text": [
      "Enter the number you want to find the factorial of: 8\n",
      "The factorial of 8 is 40320\n"
     ]
    }
   ],
   "source": [
    "#2.\n",
    "\n",
    "def fact_num(n):\n",
    "    # Base case: factorial of 1 is 1\n",
    "    if n == 1:\n",
    "        return 1\n",
    "    else:\n",
    "        # Recursive case: n! = n * (n-1)!\n",
    "        result = n * fact_num(n-1)\n",
    "        return result\n",
    "\n",
    "# Input: Get the number from the user\n",
    "num = int(input('Enter the number you want to find the factorial of: '))\n",
    "\n",
    "# Call the recursive function to calculate the factorial\n",
    "factorial = fact_num(num)\n",
    "\n",
    "# Print the result\n",
    "print(f'The factorial of {num} is {factorial}')"
   ]
  },
  {
   "cell_type": "code",
   "execution_count": 25,
   "id": "c3c959a9",
   "metadata": {},
   "outputs": [
    {
     "name": "stdout",
     "output_type": "stream",
     "text": [
      "Enter the value of n to find the nth Fibonacci number: 5\n",
      "The 5th Fibonacci number is: 5\n"
     ]
    }
   ],
   "source": [
    "#3.\n",
    "\n",
    "def fibonacci(n):\n",
    "    # Base cases: Fib(0) = 0, Fib(1) = 1\n",
    "    if n == 0:\n",
    "        return 0\n",
    "    elif n == 1:\n",
    "        return 1\n",
    "    else:\n",
    "        # Recursive case: Fib(n) = Fib(n-1) + Fib(n-2)\n",
    "        return fibonacci(n - 1) + fibonacci(n - 2)\n",
    "\n",
    "# Input: Get the value of n from the user\n",
    "n = int(input('Enter the value of n to find the nth Fibonacci number: '))\n",
    "\n",
    "# Call the recursive function to find the nth Fibonacci number\n",
    "result = fibonacci(n)\n",
    "\n",
    "# Print the result\n",
    "print(f'The {n}th Fibonacci number is: {result}')"
   ]
  },
  {
   "cell_type": "code",
   "execution_count": 26,
   "id": "f6ed260e",
   "metadata": {},
   "outputs": [
    {
     "name": "stdout",
     "output_type": "stream",
     "text": [
      "The sum of elements in the list [1, 2, 3, 4, 5] is: 15\n"
     ]
    }
   ],
   "source": [
    "#4.\n",
    "\n",
    "def recursive_sum(lst):\n",
    "    # Base case: an empty list has a sum of 0\n",
    "    if not lst:\n",
    "        return 0\n",
    "    else:\n",
    "        # Recursive case: sum of the first element and the sum of the rest of the list\n",
    "        return lst[0] + recursive_sum(lst[1:])\n",
    "\n",
    "# Example list\n",
    "my_list = [1, 2, 3, 4, 5]\n",
    "\n",
    "# Call the recursive function to calculate the sum\n",
    "result_sum = recursive_sum(my_list)\n",
    "\n",
    "# Print the result\n",
    "print(f'The sum of elements in the list {my_list} is: {result_sum}')\n"
   ]
  },
  {
   "cell_type": "code",
   "execution_count": null,
   "id": "36369cdb",
   "metadata": {},
   "outputs": [],
   "source": [
    "#5.\n",
    "\n",
    "To prevent a recursive function from running indefinitely and causing a stack overflow error, you can implement proper termination conditions, also known as base cases. \n",
    "Base cases are conditions under which the function stops making recursive calls and returns a result. \n",
    "Without base cases, the function keeps calling itself indefinitely, eventually leading to a stack overflow.\n",
    "\n",
    "Example:\n",
    "    \n",
    "def factorial(n):\n",
    "    # Base case: factorial of 0 or 1 is 1\n",
    "    if n == 0 or n == 1:\n",
    "        return 1\n",
    "    else:\n",
    "        # Recursive case: n! = n * (n-1)!\n",
    "        return n * factorial(n - 1)\n",
    "\n",
    "# Example: Calculate the factorial of 5\n",
    "result_factorial = factorial(5)\n",
    "\n",
    "# Print the result\n",
    "print(f'The factorial of 5 is: {result_factorial}')\n",
    "\n",
    "\n",
    "In this example:\n",
    "\n",
    "The base case if n == 0 or n == 1 checks if n is 0 or 1. If true, the function returns 1, preventing further recursion.\n",
    "The recursive case calculates the factorial by multiplying n with the factorial of n-1.\n",
    "\n",
    "These base cases ensure that the recursive calls eventually reach a point where the function stops making further recursive calls and returns a result, preventing a stack overflow."
   ]
  },
  {
   "cell_type": "code",
   "execution_count": 27,
   "id": "c483eaa5",
   "metadata": {},
   "outputs": [
    {
     "name": "stdout",
     "output_type": "stream",
     "text": [
      "The GCD of 48 and 18 is: 6\n"
     ]
    }
   ],
   "source": [
    "#6.\n",
    "\n",
    "def gcd_euclidean(a, b):\n",
    "    # Base case: GCD(a, 0) = a\n",
    "    if b == 0:\n",
    "        return a\n",
    "    else:\n",
    "        # Recursive case: GCD(a, b) = GCD(b, a % b)\n",
    "        return gcd_euclidean(b, a % b)\n",
    "\n",
    "# Example: Find the GCD of 48 and 18\n",
    "result_gcd = gcd_euclidean(48, 18)\n",
    "\n",
    "# Print the result\n",
    "print(f'The GCD of 48 and 18 is: {result_gcd}')\n"
   ]
  },
  {
   "cell_type": "code",
   "execution_count": 28,
   "id": "b0b2cd3e",
   "metadata": {},
   "outputs": [
    {
     "name": "stdout",
     "output_type": "stream",
     "text": [
      "The reversed string is: olleh\n"
     ]
    }
   ],
   "source": [
    "#7.\n",
    "\n",
    "def reverse_string(input_str):\n",
    "    # Base case: an empty string or a string with one character is already reversed\n",
    "    if len(input_str) <= 1:\n",
    "        return input_str\n",
    "    else:\n",
    "        # Recursive case: reverse the rest of the string and append the first character\n",
    "        return reverse_string(input_str[1:]) + input_str[0]\n",
    "\n",
    "# Example: Reverse the string \"hello\"\n",
    "result_reverse = reverse_string(\"hello\")\n",
    "\n",
    "# Print the result\n",
    "print(f'The reversed string is: {result_reverse}')\n"
   ]
  },
  {
   "cell_type": "code",
   "execution_count": 29,
   "id": "b14f7ebb",
   "metadata": {},
   "outputs": [
    {
     "name": "stdout",
     "output_type": "stream",
     "text": [
      "The result of 2^3 is: 8\n"
     ]
    }
   ],
   "source": [
    "#8.\n",
    "\n",
    "def power(x, n):\n",
    "    # Base case: x^0 is 1\n",
    "    if n == 0:\n",
    "        return 1\n",
    "    else:\n",
    "        # Recursive case: x^n = x * x^(n-1)\n",
    "        return x * power(x, n - 1)\n",
    "\n",
    "# Example: Calculate 2^3\n",
    "result_power = power(2, 3)\n",
    "\n",
    "# Print the result\n",
    "print(f'The result of 2^3 is: {result_power}')\n"
   ]
  },
  {
   "cell_type": "code",
   "execution_count": 30,
   "id": "6353be37",
   "metadata": {},
   "outputs": [
    {
     "name": "stdout",
     "output_type": "stream",
     "text": [
      "All permutations of \"abc\" are: ['abc', 'acb', 'bac', 'bca', 'cab', 'cba']\n"
     ]
    }
   ],
   "source": [
    "#9.\n",
    "\n",
    "def get_permutations(input_str):\n",
    "    if len(input_str) <= 1:\n",
    "        return [input_str]\n",
    "    else:\n",
    "        # Recursive case: generate permutations by swapping characters\n",
    "        perms = []\n",
    "        for i in range(len(input_str)):\n",
    "            char = input_str[i]\n",
    "            remaining_chars = input_str[:i] + input_str[i+1:]\n",
    "            sub_perms = get_permutations(remaining_chars)\n",
    "            perms.extend([char + perm for perm in sub_perms])\n",
    "        return perms\n",
    "\n",
    "# Example: Get all permutations of the string \"abc\"\n",
    "result_permutations = get_permutations(\"abc\")\n",
    "\n",
    "# Print the result\n",
    "print(f'All permutations of \"abc\" are: {result_permutations}')\n"
   ]
  },
  {
   "cell_type": "code",
   "execution_count": 31,
   "id": "5c890eca",
   "metadata": {},
   "outputs": [
    {
     "name": "stdout",
     "output_type": "stream",
     "text": [
      "Is \"radar\" a palindrome? True\n"
     ]
    }
   ],
   "source": [
    "#10.\n",
    "\n",
    "def is_palindrome(input_str):\n",
    "    if len(input_str) <= 1:\n",
    "        return True\n",
    "    else:\n",
    "        # Recursive case: check if the first and last characters are equal\n",
    "        return input_str[0] == input_str[-1] and is_palindrome(input_str[1:-1])\n",
    "\n",
    "# Example: Check if the string \"radar\" is a palindrome\n",
    "result_palindrome = is_palindrome(\"radar\")\n",
    "\n",
    "# Print the result\n",
    "print(f'Is \"radar\" a palindrome? {result_palindrome}')\n"
   ]
  },
  {
   "cell_type": "code",
   "execution_count": 32,
   "id": "169df6ca",
   "metadata": {},
   "outputs": [
    {
     "name": "stdout",
     "output_type": "stream",
     "text": [
      "All combinations of [1, 2, 3] are: [[], [3], [2], [2, 3], [1], [1, 3], [1, 2], [1, 2, 3]]\n"
     ]
    }
   ],
   "source": [
    "#11.\n",
    "\n",
    "def generate_combinations(elements):\n",
    "    if not elements:\n",
    "        return [[]]\n",
    "    else:\n",
    "        # Recursive case: combine each element with combinations of the rest of the list\n",
    "        first_element = elements[0]\n",
    "        rest_combinations = generate_combinations(elements[1:])\n",
    "        combined_combinations = rest_combinations + [ [first_element] + combo for combo in rest_combinations ]\n",
    "        return combined_combinations\n",
    "\n",
    "# Example: Generate all combinations of [1, 2, 3]\n",
    "result_combinations = generate_combinations([1, 2, 3])\n",
    "\n",
    "# Print the result\n",
    "print(f'All combinations of [1, 2, 3] are: {result_combinations}')\n"
   ]
  },
  {
   "cell_type": "code",
   "execution_count": null,
   "id": "c0a60d1e",
   "metadata": {},
   "outputs": [],
   "source": [
    "#Functions"
   ]
  },
  {
   "cell_type": "code",
   "execution_count": null,
   "id": "daa33347",
   "metadata": {},
   "outputs": [],
   "source": [
    "#1.\n",
    "\n",
    "A function is a reusable block of code that performs a specific task or a set of tasks. \n",
    "Functions are defined using the def keyword, followed by the function name and a set of parentheses that may contain parameters.\n",
    "Following are the uses of function:\n",
    "    \n",
    "Modularity: Breaking down code into smaller, manageable pieces.\n",
    "\n",
    "Reusability: Performing tasks with different inputs by calling the same function.\n",
    "\n",
    "Abstraction: Hiding implementation details, focusing on input and output.\n",
    "\n",
    "Encapsulation: Grouping operations together for organized code.\n",
    "\n",
    "Readability: Improving code readability with descriptive function names."
   ]
  },
  {
   "cell_type": "code",
   "execution_count": null,
   "id": "8d8a5364",
   "metadata": {},
   "outputs": [],
   "source": [
    "#2.\n",
    "\n",
    "In Python, you can define a function using the def keyword, followed by the function name and a set of parentheses that may contain parameters.\n",
    "The basic syntax of a function is:\n",
    "\n",
    "def function_name(parameter1, parameter2, ...):\n",
    "    \"\"\"Docstring - optional but recommended for documenting the function.\"\"\"\n",
    "    # Function body\n",
    "    # Code to perform the desired task\n",
    "    return result  # optional, used to return a value\n",
    "\n",
    "Example of a function adding two numbers:\n",
    "\n",
    "def add_numbers(a, b):\n",
    "    \"\"\"This function adds two numbers.\"\"\"\n",
    "    result = a + b\n",
    "    return result\n",
    "\n",
    "# Calling the function\n",
    "sum_result = add_numbers(3, 5)\n",
    "print(\"Sum:\", sum_result)\n"
   ]
  },
  {
   "cell_type": "code",
   "execution_count": null,
   "id": "3784b1e4",
   "metadata": {},
   "outputs": [],
   "source": [
    "#3.\n",
    "\n",
    "A function definition is where you outline what a function does and how it does it, while a function call is the actual execution of that function with specific arguments. "
   ]
  },
  {
   "cell_type": "code",
   "execution_count": 1,
   "id": "f78802a6",
   "metadata": {},
   "outputs": [
    {
     "name": "stdout",
     "output_type": "stream",
     "text": [
      "Enter the first number: 98\n",
      "Enter the second number: 65\n",
      "The sum of 98.0 and 65.0 is: 163.0\n"
     ]
    }
   ],
   "source": [
    "#4.\n",
    "\n",
    "def calculate_sum(a, b):\n",
    "    \"\"\"This function calculates the sum of two numbers.\"\"\"\n",
    "    result = a + b\n",
    "    return result\n",
    "\n",
    "# Get user input for two numbers\n",
    "num1 = float(input(\"Enter the first number: \"))\n",
    "num2 = float(input(\"Enter the second number: \"))\n",
    "\n",
    "# Call the function and display the result\n",
    "sum_result = calculate_sum(num1, num2)\n",
    "print(f\"The sum of {num1} and {num2} is: {sum_result}\")\n"
   ]
  },
  {
   "cell_type": "code",
   "execution_count": null,
   "id": "390f5ce9",
   "metadata": {},
   "outputs": [],
   "source": [
    "#5.\n",
    "\n",
    "A function signature refers to the declaration of a function in a programming language, including essential information about the function's characteristics. \n",
    "It typically includes the following components:\n",
    "\n",
    "Function Name: A meaningful and unique identifier for the function.\n",
    "\n",
    "Return Type: The data type of the value that the function returns. \n",
    "In languages like Python, this may not be explicitly specified (e.g., functions can return any type), while in languages like C or Java, you must specify the return type.\n",
    "\n",
    "Parameters (if any):The input values that the function expects. \n",
    "Each parameter includes its data type and a name. Parameters are enclosed in parentheses.\n",
    "\n",
    "Parameter Types (if specified):The data types of each parameter, indicating the expected data type of the arguments passed to the function.\n",
    "\n",
    "Here's an example of a function signature in Python:\n",
    "\n",
    "def add_numbers(a: int, b: int) -> int:\n",
    "    \"\"\"This function adds two integers and returns the result.\"\"\"\n",
    "    result = a + b\n",
    "    return result\n"
   ]
  },
  {
   "cell_type": "code",
   "execution_count": 2,
   "id": "77f14e26",
   "metadata": {},
   "outputs": [
    {
     "name": "stdout",
     "output_type": "stream",
     "text": [
      "The product is: 15\n"
     ]
    }
   ],
   "source": [
    "#6.\n",
    "\n",
    "def calculate_product(a, b):\n",
    "    \"\"\"This function calculates the product of two numbers.\"\"\"\n",
    "    product = a * b\n",
    "    return product\n",
    "\n",
    "# Example usage\n",
    "result = calculate_product(3, 5)\n",
    "print(\"The product is:\", result)"
   ]
  },
  {
   "cell_type": "code",
   "execution_count": null,
   "id": "60a42be1",
   "metadata": {},
   "outputs": [],
   "source": [
    "#Function Parameters and Arguements"
   ]
  },
  {
   "cell_type": "code",
   "execution_count": null,
   "id": "f63398a4",
   "metadata": {},
   "outputs": [],
   "source": [
    "#1.\n",
    "\n",
    "The terms \"formal parameters\" and \"actual arguments\" refer to the variables used in the function definition (parameters) and the values or variables passed to the function during a function call (arguments).\n",
    "\n",
    "Formal Parameters:\n",
    "\n",
    "Definition: Formal parameters are variables listed in the function definition.\n",
    "Purpose: They act as placeholders for the values that will be passed into the function when it is called.\n",
    "Syntax: Formal parameters are specified in the function signature inside the parentheses.\n",
    "    \n",
    "Actual Arguments (or Arguments):\n",
    "\n",
    "Definition: Actual arguments are the values or variables provided to a function during a function call.\n",
    "Purpose: They are the actual data that the function operates on.\n",
    "Syntax: Actual arguments are passed inside the parentheses when calling the function."
   ]
  },
  {
   "cell_type": "code",
   "execution_count": null,
   "id": "1f6e1bc8",
   "metadata": {},
   "outputs": [],
   "source": [
    "#2.\n",
    "\n",
    "We can define default values for function parameters, which means that if a value for a parameter is not provided during a function call, the default value will be used.\n",
    "\n",
    "def greet(name, greeting=\"Hello\"):\n",
    "    \"\"\"This function greets a person with a default greeting.\"\"\"\n",
    "    print(greeting + \", \" + name + \"!\")\n",
    "\n",
    "# Example usage without providing a custom greeting\n",
    "greet(\"John\")\n",
    "\n",
    "# Example usage providing a custom greeting\n",
    "greet(\"Jane\", \"Hi\")\n"
   ]
  },
  {
   "cell_type": "code",
   "execution_count": null,
   "id": "79abd15b",
   "metadata": {},
   "outputs": [],
   "source": [
    "#3.\n",
    "\n",
    "We can use keyword arguments in function calls by explicitly specifying the parameter names and their corresponding values. \n",
    "This allows us to pass arguments to a function in any order, as long as we use the parameter names.\n",
    "\n",
    "Example:\n",
    "\n",
    "def greet(name, age, greeting=\"Hello\"):\n",
    "    print(f\"{greeting}, {name}! You are {age} years old.\")\n",
    "\n",
    "# Using keyword arguments\n",
    "greet(name=\"Alice\", age=30, greeting=\"Hi\")  # Specify all arguments with keywords\n",
    "greet(age=25, name=\"Bob\")                   # Order doesn't matter as long as you use keywords\n",
    "greet(\"Charlie\", greeting=\"Hey\", age=35)    # Mix of positional and keyword arguments\n"
   ]
  },
  {
   "cell_type": "code",
   "execution_count": 3,
   "id": "38d1281e",
   "metadata": {},
   "outputs": [
    {
     "name": "stdout",
     "output_type": "stream",
     "text": [
      "15\n",
      "100\n"
     ]
    }
   ],
   "source": [
    "#4.\n",
    "\n",
    "# Define a function named calculate_sum that accepts a variable number of arguments.\n",
    "# The *number syntax allows the function to receive any number of arguments, which will be packed into a tuple named number.\n",
    "def calculate_sum(*number):\n",
    "    # Use the built-in sum function to calculate the sum of all elements in the number tuple.\n",
    "    return sum(number)\n",
    "\n",
    "# Call the calculate_sum function with four arguments (10, 20, 30, 40) and store the result in the variable 'result'.\n",
    "result = calculate_sum(10, 20, 30, 40)\n",
    "\n",
    "# Print the result, which should be the sum of the provided numbers (10 + 20 + 30 + 40 = 100).\n",
    "print(result)"
   ]
  },
  {
   "cell_type": "code",
   "execution_count": null,
   "id": "33e39b19",
   "metadata": {},
   "outputs": [],
   "source": [
    "#5.\n",
    "\n",
    "The *args and **kwargs syntax in function parameter lists are used to allow a function to accept a variable number of arguments.\n",
    "\n",
    "*args (Arbitrary Arguments):\n",
    "\n",
    "The *args syntax is used to indicate that a function can accept a variable number of positional arguments.\n",
    "When a function is defined with *args in its parameter list, it can be called with any number of positional arguments.\n",
    "These arguments are then packed into a tuple.\n",
    "\n",
    "Example:\n",
    "    \n",
    "def example_function(*args):\n",
    "    for arg in args:\n",
    "        print(arg)\n",
    "\n",
    "example_function(1, 2, 3, 4)\n",
    "\n",
    "**kwargs (Keyword Arguments):\n",
    "\n",
    "The **kwargs syntax allows a function to accept a variable number of keyword arguments.\n",
    "When a function is defined with **kwargs in its parameter list, it can be called with any number of keyword arguments. \n",
    "These arguments are then packed into a dictionary.\n",
    "\n",
    "Example:\n",
    "    \n",
    "def example_function(**kwargs):\n",
    "    for key, value in kwargs.items():\n",
    "        print(f\"{key}: {value}\")\n",
    "\n",
    "example_function(name=\"Alice\", age=30, city=\"Wonderland\")\n"
   ]
  },
  {
   "cell_type": "code",
   "execution_count": null,
   "id": "6a99ed8b",
   "metadata": {},
   "outputs": [],
   "source": [
    "#Return Values and Scoping"
   ]
  },
  {
   "cell_type": "code",
   "execution_count": null,
   "id": "7a8ca61e",
   "metadata": {},
   "outputs": [],
   "source": [
    "#1.\n",
    "\n",
    "The return statement in Python functions is used to specify the value that a function should return to the caller. \n",
    "When a function is called, the code inside the function is executed, and the result can be passed back to the calling code using the return statement.\n",
    "\n",
    "Following are a few examples:\n",
    "\n",
    "# Example 1: Function with a return statement\n",
    "def add_numbers(x, y):\n",
    "    result = x + y\n",
    "    return result\n",
    "\n",
    "# Call the function and store the result in a variable\n",
    "sum_result = add_numbers(3, 5)\n",
    "print(sum_result)  # Output: 8\n",
    "\n",
    "\n",
    "# Example 2: Function without a return statement\n",
    "def greet(name):\n",
    "    print(f\"Hello, {name}!\")\n",
    "\n",
    "# Call the function (no return value)\n",
    "greet(\"Alice\")  # Output: Hello, Alice!\n",
    "\n",
    "\n",
    "# Example 3: Function with implicit return (returning None)\n",
    "def do_something():\n",
    "    print(\"Performing some action\")\n",
    "\n",
    "# Call the function and store the result (None) in a variable\n",
    "result = do_something()\n",
    "print(result)  # Output: Performing some action \\n None\n"
   ]
  },
  {
   "cell_type": "code",
   "execution_count": null,
   "id": "c949cadb",
   "metadata": {},
   "outputs": [],
   "source": [
    "#2.\n",
    "\n",
    "Variable scope in Python refers to the region or context in a program where a variable is defined and can be accessed. \n",
    "The two main types of variable scope in Python are local scope and global scope.\n",
    "\n",
    "Local Variables:\n",
    "\n",
    "Local variables are defined within a function or a code block, and they are accessible only within the function or block where they are defined.\n",
    "Once the function or block completes execution, the local variables are destroyed, and their values are no longer accessible.\n",
    "\n",
    "Global Variables:\n",
    "    \n",
    "These variables are defined outside of any function or block and can be accessed from any part of the program, both inside and outside functions.\n",
    "Global variables stays till the last throughout the program's execution.\n"
   ]
  },
  {
   "cell_type": "code",
   "execution_count": 4,
   "id": "b76bf11d",
   "metadata": {},
   "outputs": [
    {
     "name": "stdout",
     "output_type": "stream",
     "text": [
      "Initial global variable: 10\n",
      "After incrementing global variable: 15\n",
      "After multiplying global variable: 45\n"
     ]
    }
   ],
   "source": [
    "#3.\n",
    "\n",
    "# Global variable\n",
    "global_variable = 10\n",
    "\n",
    "def increment_global():\n",
    "    # Accessing the global variable\n",
    "    global global_variable\n",
    "    global_variable += 5\n",
    "\n",
    "def multiply_global(value):\n",
    "    # Modifying the global variable using a function parameter\n",
    "    global global_variable\n",
    "    global_variable *= value\n",
    "\n",
    "def main():\n",
    "    print(\"Initial global variable:\", global_variable)\n",
    "\n",
    "    # Calling a function that increments the global variable\n",
    "    increment_global()\n",
    "    print(\"After incrementing global variable:\", global_variable)\n",
    "\n",
    "    # Calling a function that multiplies the global variable by a specified value\n",
    "    multiply_global(3)\n",
    "    print(\"After multiplying global variable:\", global_variable)\n",
    "\n",
    "if __name__ == \"__main__\":\n",
    "    main()\n",
    "\n"
   ]
  },
  {
   "cell_type": "code",
   "execution_count": 6,
   "id": "11f5fe46",
   "metadata": {},
   "outputs": [
    {
     "name": "stdout",
     "output_type": "stream",
     "text": [
      "Enter the number you want to find the factorial of: 8\n",
      "The factorial of 8 is: 40320\n"
     ]
    }
   ],
   "source": [
    "#4.\n",
    "\n",
    "def factorial(n):\n",
    "    # Base case: factorial of 0 is 1\n",
    "    if n == 0:\n",
    "        return 1\n",
    "    # Recursive case: n! = n * (n-1)!\n",
    "    else:\n",
    "        return n * factorial(n - 1)\n",
    "\n",
    "# Function Call:\n",
    "number = int(input('Enter the number you want to find the factorial of: '))\n",
    "result = factorial(number)\n",
    "print(f\"The factorial of {number} is: {result}\")\n"
   ]
  },
  {
   "cell_type": "code",
   "execution_count": null,
   "id": "e9c6b6f0",
   "metadata": {},
   "outputs": [],
   "source": [
    "#5.\n",
    "\n",
    "If we only need to read the value of a global variable within a function, we can directly reference the variable without using the global keyword.\n",
    "\n",
    "global_variable = 10\n",
    "\n",
    "def access_global():\n",
    "    print(\"Value of global_variable:\", global_variable)\n",
    "\n",
    "access_global()  # Output: Value of global_variable: 10\n"
   ]
  },
  {
   "cell_type": "code",
   "execution_count": null,
   "id": "10f58c1b",
   "metadata": {},
   "outputs": [],
   "source": [
    "#Lambda Functions and Higher-Order Functions"
   ]
  },
  {
   "cell_type": "code",
   "execution_count": null,
   "id": "a503a4f8",
   "metadata": {},
   "outputs": [],
   "source": [
    "#1.\n",
    "\n",
    "A lambda function is a concise way to create small, anonymous functions. \n",
    "Lambda functions are also known as anonymous functions because they don't have a name like regular functions defined using the def keyword. \n",
    "Instead, they are defined using the lambda keyword."
   ]
  },
  {
   "cell_type": "code",
   "execution_count": 7,
   "id": "a585e895",
   "metadata": {},
   "outputs": [
    {
     "name": "stdout",
     "output_type": "stream",
     "text": [
      "Original List: [(1, 5), (3, 2), (8, 10), (4, 7), (6, 1)]\n",
      "Sorted List based on the second element: [(6, 1), (3, 2), (1, 5), (4, 7), (8, 10)]\n"
     ]
    }
   ],
   "source": [
    "#2.\n",
    "\n",
    "# List of tuples\n",
    "tuple_list = [(1, 5), (3, 2), (8, 10), (4, 7), (6, 1)]\n",
    "\n",
    "# Sorting the list based on the second element of each tuple using a lambda function\n",
    "sorted_tuples = sorted(tuple_list, key=lambda x: x[1])\n",
    "\n",
    "# Displaying the sorted list\n",
    "print(\"Original List:\", tuple_list)\n",
    "print(\"Sorted List based on the second element:\", sorted_tuples)\n"
   ]
  },
  {
   "cell_type": "code",
   "execution_count": null,
   "id": "325b628c",
   "metadata": {},
   "outputs": [],
   "source": [
    "#3.\n",
    "\n",
    "A higher-order function is a function that takes one or more functions as arguments or returns a function as a result. \n",
    "\n",
    "# Higher-order function that takes a function as an argument\n",
    "def apply_operation(operation, x, y):\n",
    "    return operation(x, y)\n",
    "\n",
    "# Functions that can be passed as arguments\n",
    "\n",
    "def add(x, y):\n",
    "    return x + y\n",
    "\n",
    "def multiply(x, y):\n",
    "    return x * y\n",
    "\n",
    "# Using the higher-order function with different operations\n",
    "result_addition = apply_operation(add, 3, 5)\n",
    "result_multiplication = apply_operation(multiply, 3, 5)\n",
    "\n",
    "print(\"Result of addition:\", result_addition)            \n",
    "print(\"Result of multiplication:\", result_multiplication)  \n"
   ]
  },
  {
   "cell_type": "code",
   "execution_count": 8,
   "id": "3555138a",
   "metadata": {},
   "outputs": [
    {
     "name": "stdout",
     "output_type": "stream",
     "text": [
      "Result after squaring each element: [1, 4, 9, 16, 25]\n",
      "Result after doubling each element: [2, 4, 6, 8, 10]\n"
     ]
    }
   ],
   "source": [
    "#4.\n",
    "\n",
    "def apply_function_to_list(numbers, custom_function):\n",
    "    result = [custom_function(num) for num in numbers]\n",
    "    return result\n",
    "\n",
    "# Example usage:\n",
    "\n",
    "# Function to square a number\n",
    "def square(x):\n",
    "    return x ** 2\n",
    "\n",
    "# Function to double a number\n",
    "def double(x):\n",
    "    return x * 2\n",
    "\n",
    "# List of numbers\n",
    "number_list = [1, 2, 3, 4, 5]\n",
    "\n",
    "# Applying the square function to the list\n",
    "result_square = apply_function_to_list(number_list, square)\n",
    "print(\"Result after squaring each element:\", result_square)\n",
    "\n",
    "# Applying the double function to the list\n",
    "result_double = apply_function_to_list(number_list, double)\n",
    "print(\"Result after doubling each element:\", result_double)\n"
   ]
  },
  {
   "cell_type": "code",
   "execution_count": null,
   "id": "56e48e16",
   "metadata": {},
   "outputs": [],
   "source": [
    "#Built-in Functions"
   ]
  },
  {
   "cell_type": "code",
   "execution_count": null,
   "id": "dd01fb23",
   "metadata": {},
   "outputs": [],
   "source": [
    "#1.\n",
    "\n",
    "len() : The len() function is used to determine the length or the number of elements in an iterable (such as a string, list, tuple, or dictionary).\n",
    "    \n",
    "max() : The max() function is used to find the maximum element from an iterable or the maximum among two or more arguments.\n",
    "    \n",
    "min() : The min() function is used to find the minimum element from an iterable or the minimum among two or more arguments."
   ]
  },
  {
   "cell_type": "code",
   "execution_count": 9,
   "id": "eff51334",
   "metadata": {},
   "outputs": [
    {
     "name": "stdout",
     "output_type": "stream",
     "text": [
      "Original List: [1, 2, 3, 4, 5]\n",
      "Squared List: [1, 4, 9, 16, 25]\n"
     ]
    }
   ],
   "source": [
    "#2.\n",
    "\n",
    "# Function to square a number\n",
    "def square(x):\n",
    "    return x ** 2\n",
    "\n",
    "# List of numbers\n",
    "numbers = [1, 2, 3, 4, 5]\n",
    "\n",
    "# Using map() to apply the square function to each element of the list\n",
    "squared_numbers = list(map(square, numbers))\n",
    "\n",
    "# Displaying the original and squared lists\n",
    "print(\"Original List:\", numbers)\n",
    "print(\"Squared List:\", squared_numbers)\n"
   ]
  },
  {
   "cell_type": "code",
   "execution_count": null,
   "id": "35aab087",
   "metadata": {},
   "outputs": [],
   "source": [
    "#3.\n",
    "\n",
    "The filter() function in Python is used to filter elements from an iterable (such as a list) based on a specified function or a filtering condition.\n",
    "\n",
    "We use the filter() function in Python when you want to selectively extract elements from an iterable based on a specific condition or filtering function. This function is particularly useful in scenarios where you need to:\n",
    "\n",
    "Filter Based on a Condition\n",
    "Apply a Custom Filtering Function\n",
    "Short-Lived or One-Time Filtering\n",
    "Remove None or Falsy Values\n"
   ]
  },
  {
   "cell_type": "code",
   "execution_count": 10,
   "id": "7e475d0d",
   "metadata": {},
   "outputs": [
    {
     "name": "stdout",
     "output_type": "stream",
     "text": [
      "Original List: [2, 3, 4, 5]\n",
      "Product of all elements: 120\n"
     ]
    }
   ],
   "source": [
    "#4.\n",
    "\n",
    "from functools import reduce\n",
    "\n",
    "# Function to multiply two numbers\n",
    "def multiply(x, y):\n",
    "    return x * y\n",
    "\n",
    "# List of numbers\n",
    "numbers = [2, 3, 4, 5]\n",
    "\n",
    "# Using reduce() to find the product of all elements in the list\n",
    "product = reduce(multiply, numbers)\n",
    "\n",
    "# Displaying the original list and the product\n",
    "print(\"Original List:\", numbers)\n",
    "print(\"Product of all elements:\", product)\n"
   ]
  },
  {
   "cell_type": "code",
   "execution_count": null,
   "id": "4d27b192",
   "metadata": {},
   "outputs": [],
   "source": [
    "#Function Documentation and Best Practices"
   ]
  },
  {
   "cell_type": "code",
   "execution_count": null,
   "id": "1301796e",
   "metadata": {},
   "outputs": [],
   "source": [
    "#1. \n",
    "\n",
    "Docstrings, or documentation strings, in Python are used to provide documentation and information about a function, module, class, or method. \n",
    "The purpose of docstrings is to describe the purpose, usage, and behavior of the code they document.\n",
    "\n",
    "To write a docstring, enclose the documentation text in triple quotes (''' or \"\"\") immediately below the function, module, or class definition."
   ]
  },
  {
   "cell_type": "code",
   "execution_count": null,
   "id": "594f6c42",
   "metadata": {},
   "outputs": [],
   "source": [
    "#2.\n",
    "\n",
    "Functions:\n",
    "\n",
    "Use Descriptive Names: Choose names that clearly indicate the purpose or functionality of the function. \n",
    "Aim for names that are self-explanatory and minimize the need for additional comments.\n",
    "\n",
    "Follow the Snake Case Convention: Use lowercase with underscores to separate words in function names (snake_case).\n",
    "Example: calculate_average, process_data.\n",
    "\n",
    "Verb-Noun Pattern for Functions:For functions that perform actions, follow the verb-noun pattern to convey that the function is doing something.\n",
    "Example: calculate_average, generate_report.\n",
    "\n",
    "Avoid Single-Letter Names: Use meaningful names even for short-lived or simple functions.\n",
    "Exception: Common iterator variables (e.g., i, j) in small loops.\n",
    "\n",
    "Be Consistent: Maintain consistency in function naming throughout your codebase.\n",
    "Use similar names for similar functionalities.\n",
    "\n",
    "Variables:\n",
    "\n",
    "Use Descriptive and Clear Names:Choose names that clearly convey the purpose or content of the variable.\n",
    "Avoid generic names like temp, data, or single characters.\n",
    "\n",
    "Follow the Snake Case Convention:Use lowercase with underscores for variable names.\n",
    "Example: user_input, total_count.\n",
    "\n",
    "Choose Appropriate Length: Aim for variable names that are long enough to be descriptive but not excessively long.\n",
    "Avoid excessively abbreviated names.\n",
    "\n",
    "Be Consistent with Data Types: Include information about the data type in the variable name, especially if the type is not obvious from the context.\n",
    "Example: user_name_str, count_int.\n",
    "\n",
    "Avoid Reserved Words: Avoid using Python keywords or built-in function names as variable names to prevent conflicts.\n",
    "Example: Don't name a variable print or list.\n",
    "\n",
    "Use Constants in Uppercase: If you define constants, use uppercase letters with underscores to separate words.\n",
    "Example: MAX_SIZE, PI_VALUE.\n",
    "\n",
    "General Best Practices:\n",
    "\n",
    "Readability Over Cleverness:\n",
    "\n",
    "Prioritize code readability over clever or cryptic names.\n",
    "Make your code understandable to others (and your future self).\n"
   ]
  }
 ],
 "metadata": {
  "kernelspec": {
   "display_name": "Python 3 (ipykernel)",
   "language": "python",
   "name": "python3"
  },
  "language_info": {
   "codemirror_mode": {
    "name": "ipython",
    "version": 3
   },
   "file_extension": ".py",
   "mimetype": "text/x-python",
   "name": "python",
   "nbconvert_exporter": "python",
   "pygments_lexer": "ipython3",
   "version": "3.10.9"
  }
 },
 "nbformat": 4,
 "nbformat_minor": 5
}
